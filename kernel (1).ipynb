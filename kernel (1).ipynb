{
  "cells": [
    {
      "metadata": {
        "_uuid": "8f2839f25d086af736a60e9eeb907d3b93b6e0e5",
        "_cell_guid": "b1076dfc-b9ad-4769-8c92-a6c4dae69d19",
        "trusted": true
      },
      "cell_type": "code",
      "source": "# This Python 3 environment comes with many helpful analytics libraries installed\n# It is defined by the kaggle/python docker image: https://github.com/kaggle/docker-python\n# For example, here's several helpful packages to load in \n\nimport numpy as np # linear algebra\nimport pandas as pd # data processing, CSV file I/O (e.g. pd.read_csv)\n\n# Input data files are available in the \"../input/\" directory.\n# For example, running this (by clicking run or pressing Shift+Enter) will list the files in the input directory\n\nimport os\nprint(os.listdir(\"../input\"))\n\n# Any results you write to the current directory are saved as output.",
      "execution_count": 1,
      "outputs": [
        {
          "output_type": "stream",
          "text": "['Data']\n",
          "name": "stdout"
        }
      ]
    },
    {
      "metadata": {
        "_cell_guid": "79c7e3d0-c299-4dcb-8224-4455121ee9b0",
        "collapsed": true,
        "_uuid": "d629ff2d2480ee46fbb7e2d37f6b5fab8052498a",
        "trusted": false
      },
      "cell_type": "markdown",
      "source": "## This is project we will try to predict stock market dataset"
    },
    {
      "metadata": {
        "trusted": true,
        "_uuid": "7350342547c28375dfd4a69d7c78f611941eaf2f"
      },
      "cell_type": "code",
      "source": "##lets import some more dependencies\nimport tensorflow as tf\nimport seaborn as sns\nimport matplotlib.pyplot as plt\nfrom sklearn.model_selection import train_test_split\nimport plotly \nimport datetime",
      "execution_count": 2,
      "outputs": []
    },
    {
      "metadata": {
        "trusted": true,
        "_uuid": "ba9bc59683db81d0d3781057bd3222af5c17a2d8"
      },
      "cell_type": "code",
      "source": "## now lets check the dataset\nstock_file_names = os.listdir(\"../input/Data/Stocks\")",
      "execution_count": 5,
      "outputs": []
    },
    {
      "metadata": {
        "trusted": true,
        "_uuid": "079f0a7021793e56d48f023c5f7cd429fcfc13fa"
      },
      "cell_type": "code",
      "source": "stock_file_names\n",
      "execution_count": 6,
      "outputs": [
        {
          "output_type": "execute_result",
          "execution_count": 6,
          "data": {
            "text/plain": "['lake.us.txt',\n 'avt.us.txt',\n 'jps.us.txt',\n 'form.us.txt',\n 'un.us.txt',\n 'kcapl.us.txt',\n 'fbiz.us.txt',\n 'amh_c.us.txt',\n 'sce_k.us.txt',\n 'avdl.us.txt',\n 'eeq.us.txt',\n 'dox.us.txt',\n 'dlng.us.txt',\n 'ups.us.txt',\n 'avgo.us.txt',\n 'wmc.us.txt',\n 'qdel.us.txt',\n 'tgna.us.txt',\n 'puk.us.txt',\n 'bcacw.us.txt',\n 'vbiv.us.txt',\n 'wvvip.us.txt',\n 'hmta.us.txt',\n 'inf.us.txt',\n 'mnkd.us.txt',\n 'cli.us.txt',\n 'alo.us.txt',\n 'rail.us.txt',\n 'fomx.us.txt',\n 'pgp.us.txt',\n 'rtix.us.txt',\n 'vbnd.us.txt',\n 'town.us.txt',\n 'hbb.us.txt',\n 'yext.us.txt',\n 'akg.us.txt',\n 'vsmv.us.txt',\n 'feng.us.txt',\n 'hbk.us.txt',\n 'grnb.us.txt',\n 'asc.us.txt',\n 'tlra.us.txt',\n 'cae.us.txt',\n 'gis.us.txt',\n 'aamc.us.txt',\n 'ottr.us.txt',\n 'lvnta.us.txt',\n 'vtc.us.txt',\n 'cltl.us.txt',\n 'ocn.us.txt',\n 'mmdmr.us.txt',\n 'regi.us.txt',\n 'all_a.us.txt',\n 'gnk.us.txt',\n 'oran.us.txt',\n 'blue.us.txt',\n 'psa_f.us.txt',\n 'appf.us.txt',\n 'oeuh.us.txt',\n 'f.us.txt',\n 'tvpt.us.txt',\n 'nghc.us.txt',\n 'enva.us.txt',\n 'hmy.us.txt',\n 'co.us.txt',\n 'fast.us.txt',\n 'zyne.us.txt',\n 'cpl.us.txt',\n 'adc.us.txt',\n 'phg.us.txt',\n 'afg.us.txt',\n 'ismd.us.txt',\n 'pdp.us.txt',\n 'etx.us.txt',\n 'gil.us.txt',\n 'lci.us.txt',\n 'ptct.us.txt',\n 'ontl.us.txt',\n 'bac_e.us.txt',\n 'asm.us.txt',\n 'fbp.us.txt',\n 'glng.us.txt',\n 'spun.us.txt',\n 'prss.us.txt',\n 'botj.us.txt',\n 'bxp.us.txt',\n 'alg.us.txt',\n 'tph.us.txt',\n 'avb.us.txt',\n 'dlr_h.us.txt',\n 'gtxi.us.txt',\n 'hasi.us.txt',\n 'mack.us.txt',\n 'spe_b.us.txt',\n 'nymx.us.txt',\n 'ffbc.us.txt',\n 'ntap.us.txt',\n 'tgen.us.txt',\n 'nqp.us.txt',\n 'sohom.us.txt',\n 'brkr.us.txt',\n 'glad.us.txt',\n 'jnce.us.txt',\n 'bce.us.txt',\n 'idra.us.txt',\n 'ufs.us.txt',\n 'mrbk.us.txt',\n 'gpt.us.txt',\n 'sf.us.txt',\n 'lode.us.txt',\n 'aiy.us.txt',\n 'zais.us.txt',\n 'ggb.us.txt',\n 'amrk.us.txt',\n 'gpor.us.txt',\n 'fce-a.us.txt',\n 'star.us.txt',\n 'tbnk.us.txt',\n 'xoma.us.txt',\n 'crnt.us.txt',\n 'afl.us.txt',\n 'cmt.us.txt',\n 'srax.us.txt',\n 'irm.us.txt',\n 'heb.us.txt',\n 'ergf.us.txt',\n 're.us.txt',\n 'evn.us.txt',\n 'nfg.us.txt',\n 'reph.us.txt',\n 'wit.us.txt',\n 'sum.us.txt',\n 'usna.us.txt',\n 'gs_b.us.txt',\n 'vjet.us.txt',\n 'nvcr.us.txt',\n 'nwpx.us.txt',\n 'sgza.us.txt',\n 'vno_i.us.txt',\n 'nee_k.us.txt',\n 'trvg.us.txt',\n 'dlr.us.txt',\n 'nept.us.txt',\n 'salm.us.txt',\n 'anda.us.txt',\n 'pjh.us.txt',\n 'nbhc.us.txt',\n 'lvus.us.txt',\n 'cade.us.txt',\n 'amt.us.txt',\n 'plus.us.txt',\n 'eqs.us.txt',\n 'dxc.us.txt',\n 'bby.us.txt',\n 'lone.us.txt',\n 'gldw.us.txt',\n 'bwp.us.txt',\n 'wing.us.txt',\n 'csse.us.txt',\n 'gab_g.us.txt',\n 'entr.us.txt',\n 'key.us.txt',\n 'cvrs.us.txt',\n 'jbn.us.txt',\n 'ras_a.us.txt',\n 'ezpw.us.txt',\n 'bldp.us.txt',\n 'cr.us.txt',\n 'pe.us.txt',\n 'dyls.us.txt',\n 'nbo.us.txt',\n 'cof_c.us.txt',\n 'ftai.us.txt',\n 'twin.us.txt',\n 'wbs_e.us.txt',\n 'hgt.us.txt',\n 'pfbx.us.txt',\n 'blhy.us.txt',\n 'rgc.us.txt',\n 'ivh.us.txt',\n 'hlg.us.txt',\n 'bybk.us.txt',\n 'hfbl.us.txt',\n 'vmot.us.txt',\n 'agtc.us.txt',\n 'ryam_a.us.txt',\n 'ldp.us.txt',\n 'ttwo.us.txt',\n 'cznc.us.txt',\n 'bvx.us.txt',\n 'bcacr.us.txt',\n 'bcpc.us.txt',\n 'optn.us.txt',\n 'rnem.us.txt',\n 'ca.us.txt',\n 'rli.us.txt',\n 'stt.us.txt',\n 'botz.us.txt',\n 'trch.us.txt',\n 'mgen.us.txt',\n 'gdl.us.txt',\n 'cwh.us.txt',\n 'ceva.us.txt',\n 'ghyb.us.txt',\n 'wpxp.us.txt',\n 'dezu.us.txt',\n 'trxc.us.txt',\n 'crzo.us.txt',\n 'dova.us.txt',\n 'ens.us.txt',\n 'sce_l.us.txt',\n 'etp.us.txt',\n 'wst.us.txt',\n 'kem.us.txt',\n 'arr_b.us.txt',\n 'wex.us.txt',\n 'eft.us.txt',\n 'rcmt.us.txt',\n 'hcrf.us.txt',\n 'swk.us.txt',\n 'essa.us.txt',\n 'gsit.us.txt',\n 'rost.us.txt',\n 'sgrp.us.txt',\n 'ht_d.us.txt',\n 'redu.us.txt',\n 'gogo.us.txt',\n 'lw.us.txt',\n 'sd.us.txt',\n 'kaacu.us.txt',\n 'bbk.us.txt',\n 'asb_d.us.txt',\n 'achv.us.txt',\n 'schw.us.txt',\n 'nkx.us.txt',\n 'chtr.us.txt',\n 'tds.us.txt',\n 'jphf.us.txt',\n 'nac.us.txt',\n 'nete.us.txt',\n 'spmo.us.txt',\n 'banfp.us.txt',\n 'isf.us.txt',\n 'num.us.txt',\n 'hznp.us.txt',\n 'nci.us.txt',\n 'chd.us.txt',\n 'dwdp.us.txt',\n 'rxii.us.txt',\n 'tell.us.txt',\n 'penn.us.txt',\n 'rcm.us.txt',\n 'nndm.us.txt',\n 'efc.us.txt',\n 'emhy.us.txt',\n 'pep.us.txt',\n 'smpl.us.txt',\n 'tsg.us.txt',\n 'mbrx.us.txt',\n 'npn.us.txt',\n 'gvp.us.txt',\n 'dre.us.txt',\n 'mpc.us.txt',\n 'orbc.us.txt',\n 'drq.us.txt',\n 'osg.us.txt',\n 'nvr.us.txt',\n 'eryp.us.txt',\n 'ads.us.txt',\n 'imgn.us.txt',\n 'clns_g.us.txt',\n 'bgx.us.txt',\n 'ancb.us.txt',\n 'wbig.us.txt',\n 'noc.us.txt',\n 'upld.us.txt',\n 'czwi.us.txt',\n 'bibl.us.txt',\n 'caj.us.txt',\n 'tco.us.txt',\n 'mlpz.us.txt',\n 'smsi.us.txt',\n 'hqh.us.txt',\n 'riot.us.txt',\n 'xrx.us.txt',\n 'trib.us.txt',\n 'lgf-b.us.txt',\n 'btz.us.txt',\n 'mmm.us.txt',\n 'homl.us.txt',\n 'eiv.us.txt',\n 'aieq.us.txt',\n 'vnrx.us.txt',\n 'bbw.us.txt',\n 'zionz.us.txt',\n 'lfvn.us.txt',\n 'aqn.us.txt',\n 'pre_h.us.txt',\n 'bkhu.us.txt',\n 'so.us.txt',\n 'celh.us.txt',\n 'zvv.us.txt',\n 'sky.us.txt',\n 'jt.us.txt',\n 'bery.us.txt',\n 'gnt_a.us.txt',\n 'pulm.us.txt',\n 'esrx.us.txt',\n 'clwt.us.txt',\n 'sam.us.txt',\n 'sina.us.txt',\n 'chw.us.txt',\n 'delt.us.txt',\n 'akrx.us.txt',\n 'twou.us.txt',\n 'hfc.us.txt',\n 'rst.us.txt',\n 'hygs.us.txt',\n 'zg.us.txt',\n 'dpw.us.txt',\n 'nee_c.us.txt',\n 'forty.us.txt',\n 'twnk.us.txt',\n 'wabc.us.txt',\n 'catyw.us.txt',\n 'cdr_c.us.txt',\n 'naov.us.txt',\n 'qtrh.us.txt',\n 'ohi.us.txt',\n 'manu.us.txt',\n 'ctre.us.txt',\n 'ese.us.txt',\n 'br.us.txt',\n 'tyl.us.txt',\n 'elj.us.txt',\n 'esv.us.txt',\n 'wins.us.txt',\n 'psb_w.us.txt',\n 'spxe.us.txt',\n 'tdc.us.txt',\n 'kffb.us.txt',\n 'osur.us.txt',\n 'amh_g.us.txt',\n 'gsie.us.txt',\n 'cof_g.us.txt',\n 'rytm.us.txt',\n 'stz-b.us.txt',\n 'dwsn.us.txt',\n 'grr.us.txt',\n 'grc.us.txt',\n 'dcix.us.txt',\n 'euxl.us.txt',\n 'susa.us.txt',\n 'gaia.us.txt',\n 'ecc.us.txt',\n 'wppgy.us.txt',\n 'oesx.us.txt',\n 'dave.us.txt',\n 'lmha.us.txt',\n 'swir.us.txt',\n 'fsb.us.txt',\n 'bfr.us.txt',\n 'zjzzt.us.txt',\n 'mtex.us.txt',\n 'cinf.us.txt',\n 'atacu.us.txt',\n 'igz.us.txt',\n 'mosc-u.us.txt',\n 'ko.us.txt',\n 'cinr.us.txt',\n 'pmom.us.txt',\n 'mtx.us.txt',\n 'nev.us.txt',\n 'ktov.us.txt',\n 'ncmi.us.txt',\n 'lion.us.txt',\n 'she.us.txt',\n 'fmo.us.txt',\n 'cownl.us.txt',\n 'kldx.us.txt',\n 'sbnyw.us.txt',\n 'tdj.us.txt',\n 'bsjp.us.txt',\n 'cyad.us.txt',\n 'flkr.us.txt',\n 'cit.us.txt',\n 'flo.us.txt',\n 'ahl.us.txt',\n 'oilx.us.txt',\n 'aos.us.txt',\n 'iga.us.txt',\n 'five.us.txt',\n 'bbrx.us.txt',\n 'cbf.us.txt',\n 'func.us.txt',\n 'chmi_a.us.txt',\n 'old.us.txt',\n 'cyrx.us.txt',\n 'px.us.txt',\n 'nmk_c.us.txt',\n 'sci.us.txt',\n 'nnc.us.txt',\n 'rmcf.us.txt',\n 'mgcd.us.txt',\n 'msl.us.txt',\n 'sppp.us.txt',\n 'ftrpr.us.txt',\n 'hsea.us.txt',\n 'bgca.us.txt',\n 'bbt.us.txt',\n 'dbvt.us.txt',\n 'insi.us.txt',\n 'dnr.us.txt',\n 'mtb.us.txt',\n 'lsi.us.txt',\n 'gg.us.txt',\n 'fcre.us.txt',\n 'sup.us.txt',\n 'sbbc.us.txt',\n 'pstb.us.txt',\n 'banx.us.txt',\n 'egn.us.txt',\n 'lcahu.us.txt',\n 'rbio.us.txt',\n 'enph.us.txt',\n 'bcom.us.txt',\n 'mcrb.us.txt',\n 'smmd.us.txt',\n 'dwaq.us.txt',\n 'lpg.us.txt',\n 'mbot.us.txt',\n 'ffbcw.us.txt',\n 'mtnb.us.txt',\n 'cor_a.us.txt',\n 'ufpi.us.txt',\n 'sti_a.us.txt',\n 'stot.us.txt',\n 'aet.us.txt',\n 'flca.us.txt',\n 'csu.us.txt',\n 'andaw.us.txt',\n 'hsc.us.txt',\n 'thff.us.txt',\n 'ipoa-u.us.txt',\n 'stz.us.txt',\n 'cci_a.us.txt',\n 'ixys.us.txt',\n 'dskew.us.txt',\n 'mer_k.us.txt',\n 'ondk.us.txt',\n 'cdk.us.txt',\n 'brk-b.us.txt',\n 'ston.us.txt',\n 'yumc.us.txt',\n 'knsl.us.txt',\n 'fnb.us.txt',\n 'phx.us.txt',\n 'abax.us.txt',\n 'tmhc.us.txt',\n 'wms.us.txt',\n 'xin.us.txt',\n 'efii.us.txt',\n 'link.us.txt',\n 'tda.us.txt',\n 'smbk.us.txt',\n 'iae.us.txt',\n 'ix.us.txt',\n 'eacqw.us.txt',\n 'zbzx.us.txt',\n 'evh.us.txt',\n 'myn.us.txt',\n 'jwn.us.txt',\n 'vmin.us.txt',\n 'hhc.us.txt',\n 'aqua.us.txt',\n 'all_d.us.txt',\n 'avid.us.txt',\n 'vno.us.txt',\n 'mcb.us.txt',\n 'aer.us.txt',\n 'shen.us.txt',\n 'inn_c.us.txt',\n 'ubp_h.us.txt',\n 'imo.us.txt',\n 'midd.us.txt',\n 'gww.us.txt',\n 'pbib.us.txt',\n 'rfi.us.txt',\n 'enh_c.us.txt',\n 'sovb.us.txt',\n 'bb.us.txt',\n 'nav.us.txt',\n 'call.us.txt',\n 'ravn.us.txt',\n 'okta.us.txt',\n 'vvv.us.txt',\n 'pei_b.us.txt',\n 'evri.us.txt',\n 'bbby.us.txt',\n 'cafd.us.txt',\n 'wpg_i.us.txt',\n 'hesm.us.txt',\n 'unfi.us.txt',\n 'wmgiz.us.txt',\n 'wbib.us.txt',\n 'zlab.us.txt',\n 'cms.us.txt',\n 'gmre.us.txt',\n 'scph.us.txt',\n 'mfm.us.txt',\n 'cco.us.txt',\n 'tgp_a.us.txt',\n 'unp.us.txt',\n 'jagx.us.txt',\n 'mlab.us.txt',\n 'reem.us.txt',\n 'lob.us.txt',\n 'bwen.us.txt',\n 'jpt.us.txt',\n 'wpm.us.txt',\n 'gpk.us.txt',\n 'nep.us.txt',\n 'paa.us.txt',\n 'hnp.us.txt',\n 'mndo.us.txt',\n 'tops.us.txt',\n 'sivb.us.txt',\n 'pam.us.txt',\n 'gevo.us.txt',\n 'mixt.us.txt',\n 'gifi.us.txt',\n 'cohu.us.txt',\n 'eccz.us.txt',\n 'rpai_a.us.txt',\n 'sorl.us.txt',\n 'cur.us.txt',\n 'any.us.txt',\n 'agu.us.txt',\n 'qumu.us.txt',\n 'nyt.us.txt',\n 'iec.us.txt',\n 'ghs.us.txt',\n 'aktx.us.txt',\n 'fgp.us.txt',\n 'kins.us.txt',\n 'pke.us.txt',\n 'dbes.us.txt',\n 'xitk.us.txt',\n 'sf_a.us.txt',\n 'waas.us.txt',\n 'pphm.us.txt',\n 'mindp.us.txt',\n 'arnc_b.us.txt',\n 'bdn.us.txt',\n 'lngr.us.txt',\n 'mza.us.txt',\n 'pfe.us.txt',\n 'gcap.us.txt',\n 'cveo.us.txt',\n 'bsft.us.txt',\n 'slct.us.txt',\n 'evt.us.txt',\n 'egbn.us.txt',\n 'dsx.us.txt',\n 'xlre.us.txt',\n 'fiee.us.txt',\n 'ulbi.us.txt',\n 'c_l.us.txt',\n 'lvhi.us.txt',\n 'nee_c-cl.us.txt',\n 'ht.us.txt',\n 'rmni.us.txt',\n 'dffn.us.txt',\n 'pnc.us.txt',\n 'intt.us.txt',\n 'aiz.us.txt',\n 'bld.us.txt',\n 'daio.us.txt',\n 'wday.us.txt',\n 'rtec.us.txt',\n 'eyes.us.txt',\n 'acc.us.txt',\n 'acxm.us.txt',\n 'mcft.us.txt',\n 'he.us.txt',\n 'jpih.us.txt',\n 'egy.us.txt',\n 'frta.us.txt',\n 'pjc.us.txt',\n 'htlf.us.txt',\n 'abcb.us.txt',\n 'bdsi.us.txt',\n 'pirs.us.txt',\n 'tcf.us.txt',\n 'kpti.us.txt',\n 'hoft.us.txt',\n 'swin.us.txt',\n 'rt.us.txt',\n 'arcm.us.txt',\n 'tpor.us.txt',\n 'lts_a.us.txt',\n 'fh.us.txt',\n 'thq.us.txt',\n 'df.us.txt',\n 'jblu.us.txt',\n 'psa_y.us.txt',\n 'itrn.us.txt',\n 'dwlv.us.txt',\n 'zbk.us.txt',\n 'rbcn.us.txt',\n 'ryaay.us.txt',\n 'rza.us.txt',\n 'pch.us.txt',\n 'cdns.us.txt',\n 'qmom.us.txt',\n 'kfs.us.txt',\n 'abtx.us.txt',\n 'kfrc.us.txt',\n 'chk_d.us.txt',\n 'evy.us.txt',\n 'evc.us.txt',\n 'emf.us.txt',\n 'edbi.us.txt',\n 'ozrk.us.txt',\n 'sna.us.txt',\n 'tsem.us.txt',\n 'efnl.us.txt',\n 'psxp.us.txt',\n 'mbvx.us.txt',\n 'dtea.us.txt',\n 'arch.us.txt',\n 'scl.us.txt',\n 'p.us.txt',\n 'jcap.us.txt',\n 'dltr.us.txt',\n 'oi.us.txt',\n 'hayn.us.txt',\n 'vet.us.txt',\n 'ati.us.txt',\n 'azpn.us.txt',\n 'cio.us.txt',\n 'etb.us.txt',\n 'akba.us.txt',\n 'dukh.us.txt',\n 'bfo.us.txt',\n 'ee.us.txt',\n 'cxdc.us.txt',\n 'oxlcm.us.txt',\n 'mnk.us.txt',\n 'msb.us.txt',\n 'tmk_c.us.txt',\n 'grx.us.txt',\n 'ddt.us.txt',\n 'ba.us.txt',\n 'fsi.us.txt',\n 'ry.us.txt',\n 'yorw.us.txt',\n 'nuro.us.txt',\n 'ibio.us.txt',\n 'pbt.us.txt',\n 'cphc.us.txt',\n 'myok.us.txt',\n 'obe.us.txt',\n 'idsy.us.txt',\n 'invh.us.txt',\n 'vymi.us.txt',\n 'cfms.us.txt',\n 'cfnb.us.txt',\n 'hpf.us.txt',\n 'ccrc.us.txt',\n 'esbk.us.txt',\n 'spb.us.txt',\n 'oled.us.txt',\n 'axr.us.txt',\n 'pval.us.txt',\n 'cim_b.us.txt',\n 'ae.us.txt',\n 'ipdn.us.txt',\n 'flch.us.txt',\n 'uuuu.us.txt',\n 'vslr.us.txt',\n 'ftxr.us.txt',\n 'nbev.us.txt',\n 'plg.us.txt',\n 'bhf.us.txt',\n 'esgg.us.txt',\n 'qd.us.txt',\n 'rhe.us.txt',\n 'dlbs.us.txt',\n 'gst.us.txt',\n 'bme.us.txt',\n 'mth.us.txt',\n 'gpp.us.txt',\n 'lnth.us.txt',\n 'ihg.us.txt',\n 'lcut.us.txt',\n 'ntg.us.txt',\n 'amda.us.txt',\n 'anss.us.txt',\n 'atro.us.txt',\n 'ntgr.us.txt',\n 'nao.us.txt',\n 'kar.us.txt',\n 'rubi.us.txt',\n 'adom.us.txt',\n 'hls.us.txt',\n 'wern.us.txt',\n 'dmf.us.txt',\n 'ftek.us.txt',\n 'ares.us.txt',\n 'becn.us.txt',\n 'hvt.us.txt',\n 'pkd.us.txt',\n 'dfbg.us.txt',\n 'nuan.us.txt',\n 'ggz_a.us.txt',\n 'cy.us.txt',\n 'hig.us.txt',\n 'svbi.us.txt',\n 'hni.us.txt',\n 'nexa.us.txt',\n 'kura.us.txt',\n 'ngls_a.us.txt',\n 'snhnl.us.txt',\n 'ncom.us.txt',\n 'tst.us.txt',\n 'sji.us.txt',\n 'edom.us.txt',\n 'jhs.us.txt',\n 'intg.us.txt',\n 'dyb.us.txt',\n 'clrb.us.txt',\n 'afb.us.txt',\n 'fanz.us.txt',\n 'flex.us.txt',\n 'bel.us.txt',\n 'tpvy.us.txt',\n 'caa.us.txt',\n 'san_b.us.txt',\n 'aaww.us.txt',\n 'amgp.us.txt',\n 'fe.us.txt',\n 'o.us.txt',\n 'cbk.us.txt',\n 'jpgb.us.txt',\n 'orrf.us.txt',\n 'kbal.us.txt',\n 'iif.us.txt',\n 'shop.us.txt',\n 'mgee.us.txt',\n 'chrs.us.txt',\n 'issc.us.txt',\n 'pen.us.txt',\n 'dvem.us.txt',\n 'plya.us.txt',\n 'pfs.us.txt',\n 'sce_j.us.txt',\n 'chma.us.txt',\n 'nsm.us.txt',\n 'brid.us.txt',\n 'vrsn.us.txt',\n 'mhk.us.txt',\n 'alxn.us.txt',\n 'cmls.us.txt',\n 'pfk.us.txt',\n 'intl.us.txt',\n 'bwxt.us.txt',\n 'mrk.us.txt',\n 'oaks.us.txt',\n 'aft.us.txt',\n 'bms.us.txt',\n 'ecol.us.txt',\n 'dest.us.txt',\n 'jce.us.txt',\n 'fhn_a.us.txt',\n 'pzg.us.txt',\n 'td.us.txt',\n 'zb_a.us.txt',\n 'dbit.us.txt',\n 'comb.us.txt',\n 'jpin.us.txt',\n 'tr.us.txt',\n 'glw.us.txt',\n 'msg.us.txt',\n 'cfbi.us.txt',\n 'esdiw.us.txt',\n 'shlx.us.txt',\n 'gef.us.txt',\n 'cor_a-cl.us.txt',\n 'pfh.us.txt',\n 'cma.us.txt',\n 'iamxw.us.txt',\n 'bf-b.us.txt',\n 'lindw.us.txt',\n 'mho.us.txt',\n 'afsi_b.us.txt',\n 'mrdnw.us.txt',\n 'bac-ws-a.us.txt',\n 'lub.us.txt',\n 'gslc.us.txt',\n 'bse.us.txt',\n 'mvis.us.txt',\n 'jxsb.us.txt',\n 'fmao.us.txt',\n 'hl_b.us.txt',\n 'inbkl.us.txt',\n 'afsi.us.txt',\n 'bsqr.us.txt',\n 'gto.us.txt',\n 'ivr_c.us.txt',\n 'ello.us.txt',\n 'edi.us.txt',\n 'gfy.us.txt',\n 'sunw.us.txt',\n 'bsbr.us.txt',\n 'eudv.us.txt',\n 'tvty.us.txt',\n 'plow.us.txt',\n 'cizn.us.txt',\n 'aal.us.txt',\n 'dorm.us.txt',\n 'fccy.us.txt',\n 'exel.us.txt',\n 'elc.us.txt',\n 'nls.us.txt',\n 'oxlco.us.txt',\n 'ha.us.txt',\n 'cmre_b.us.txt',\n 'cycc.us.txt',\n 'moxc.us.txt',\n 'osn.us.txt',\n 'orpn.us.txt',\n 'fn.us.txt',\n 'cea.us.txt',\n 'cisn-ws.us.txt',\n 'khc.us.txt',\n 'ocsl.us.txt',\n 'sach.us.txt',\n 'cfx.us.txt',\n 'pfl.us.txt',\n 'pnf.us.txt',\n 'ety.us.txt',\n 'tsc.us.txt',\n 'io.us.txt',\n 'cway.us.txt',\n 'aray.us.txt',\n 'htbi.us.txt',\n 'mcri.us.txt',\n 'gden.us.txt',\n 'gnmx.us.txt',\n 'lfus.us.txt',\n 'spg.us.txt',\n 'srci.us.txt',\n 'xshq.us.txt',\n 'plab.us.txt',\n 'klac.us.txt',\n 'mfem.us.txt',\n 'iphi.us.txt',\n 'jhd.us.txt',\n 'bgg.us.txt',\n 'ggp.us.txt',\n 'ggo.us.txt',\n 'xbks.us.txt',\n 'accp.us.txt',\n 'ifon.us.txt',\n 'gcbc.us.txt',\n 'disck.us.txt',\n 'auo.us.txt',\n 'kirk.us.txt',\n 'jw-b.us.txt',\n 'trtn.us.txt',\n 'snfca.us.txt',\n 'bll.us.txt',\n 'wtr.us.txt',\n 'dlr_i.us.txt',\n 'bsac.us.txt',\n 'bvxvw.us.txt',\n 'ffnw.us.txt',\n 'els.us.txt',\n 'uri.us.txt',\n 'bmla.us.txt',\n 'acp.us.txt',\n 'cats.us.txt',\n 'sep.us.txt',\n 'strm.us.txt',\n 'cube.us.txt',\n 'ti-a.us.txt',\n 'esca.us.txt',\n 'eio.us.txt',\n 'vicr.us.txt',\n 'fcau.us.txt',\n 'pahc.us.txt',\n 'jhmf.us.txt',\n 'msex.us.txt',\n 'eocc.us.txt',\n 'myndw.us.txt',\n 'mictw.us.txt',\n 'powl.us.txt',\n 'srun.us.txt',\n 'jag.us.txt',\n 'bpy.us.txt',\n 'chscm.us.txt',\n 'exc.us.txt',\n 'wsky.us.txt',\n 'jeq.us.txt',\n 'ego.us.txt',\n 'omp.us.txt',\n 'cerc.us.txt',\n 'hri.us.txt',\n 'fi.us.txt',\n 'cbb.us.txt',\n 'gwrs.us.txt',\n 'viab.us.txt',\n 'ast.us.txt',\n 'spsb.us.txt',\n 'gdp.us.txt',\n 'ttph.us.txt',\n 'mmdmu.us.txt',\n 'lho_i.us.txt',\n 'gjp.us.txt',\n 'ford.us.txt',\n 'yerr.us.txt',\n 'nvda.us.txt',\n 'axu.us.txt',\n 'dgly.us.txt',\n 'src_a.us.txt',\n 'cclp.us.txt',\n 'avav.us.txt',\n 'psti.us.txt',\n 'sigi.us.txt',\n 'eemx.us.txt',\n 'bbt_e.us.txt',\n 'res.us.txt',\n 'qcom.us.txt',\n 'abil.us.txt',\n 'bita.us.txt',\n 'rex.us.txt',\n 'tap.us.txt',\n 'sybx.us.txt',\n 'bas.us.txt',\n 'ghyg.us.txt',\n 'elecu.us.txt',\n 'amd.us.txt',\n 'on.us.txt',\n 'mpo.us.txt',\n 'meoh.us.txt',\n 'ggt.us.txt',\n 'rlog.us.txt',\n 'esgl.us.txt',\n 'nm_h.us.txt',\n 'utlf.us.txt',\n 'bokf.us.txt',\n 'qiwi.us.txt',\n 'fnbg.us.txt',\n 'mays.us.txt',\n 'srpt.us.txt',\n 'rnr_e.us.txt',\n 'srdx.us.txt',\n 'amed.us.txt',\n 'tcca.us.txt',\n 'jbl.us.txt',\n 'cool.us.txt',\n 'ipg.us.txt',\n 'axsm.us.txt',\n 'blph.us.txt',\n 'sph.us.txt',\n 'hlx.us.txt',\n 'sfl.us.txt',\n 'nkg.us.txt',\n 'sbac.us.txt',\n 'good.us.txt',\n 'knd.us.txt',\n 'sptl.us.txt',\n 'xxii.us.txt',\n 'hzo.us.txt',\n 'tk.us.txt',\n 'egi.us.txt',\n 'fen.us.txt',\n 'kang.us.txt',\n 'mci.us.txt',\n 'meso.us.txt',\n 'aat.us.txt',\n 'ipoa-ws.us.txt',\n 'amn.us.txt',\n 'ifix.us.txt',\n 'cga.us.txt',\n 'sdpi.us.txt',\n 'acsi.us.txt',\n 'aon.us.txt',\n 'nbh.us.txt',\n 'mli.us.txt',\n 'htd.us.txt',\n 'ti.us.txt',\n 'xntk.us.txt',\n 'iknx.us.txt',\n 'alot.us.txt',\n 'gnc.us.txt',\n 'tyme.us.txt',\n 'usg.us.txt',\n 'qvm.us.txt',\n ...]"
          },
          "metadata": {}
        }
      ]
    },
    {
      "metadata": {
        "trusted": true,
        "_uuid": "1dbcb387f5062716087593ad07fc8de6c8ebe7a6"
      },
      "cell_type": "code",
      "source": "stockSymbol=[]\ncol_names=['Date','Open','High','Low','Close','Volume','c']\ndataList=list()\nfor f in stock_file_names:\n    symbol=[str.upper(f.split('.')[0])]\n    fileName='../input/Data/Stocks/'+f\n    fp=open(fileName,'r')\n    if len(fp.read())>0:\n        data=np.array(pd.read_csv(fileName,header=None))\n        for d in data[1:]:\n            dataList.append(d)\n            stockSymbol.append(symbol)\n        \n    fp.close()\nprint('DONE!!')",
      "execution_count": 7,
      "outputs": [
        {
          "output_type": "stream",
          "text": "DONE!!\n",
          "name": "stdout"
        }
      ]
    },
    {
      "metadata": {
        "trusted": true,
        "_uuid": "4822cc500d7e1933b35da22b521384914953d4f8"
      },
      "cell_type": "code",
      "source": "## because list has no attribute called shape\n## so converted into numpy array to find out \n## the shape\nnp.shape(dataList),np.shape(stockSymbol)",
      "execution_count": 8,
      "outputs": [
        {
          "output_type": "execute_result",
          "execution_count": 8,
          "data": {
            "text/plain": "((14887665, 7), (14887665, 1))"
          },
          "metadata": {}
        }
      ]
    },
    {
      "metadata": {
        "trusted": true,
        "_uuid": "af81e542f3fe9cb3f78c53bba68e31bd60dc195d"
      },
      "cell_type": "code",
      "source": "## lets see the first items of both the lists\nprint('the datalist item is : ',dataList[0])\nprint('the stock symbol item is : ',stockSymbol[0])\n",
      "execution_count": 9,
      "outputs": [
        {
          "output_type": "stream",
          "text": "the datalist item is :  ['2005-02-25' '16.69' '16.86' '16.69' '16.86' '25195' '0']\nthe stock symbol item is :  ['LAKE']\n",
          "name": "stdout"
        }
      ]
    },
    {
      "metadata": {
        "trusted": true,
        "_uuid": "cd1f85607babaff36e69e1fb5f5e96b2e2513d94"
      },
      "cell_type": "code",
      "source": "## lets create the dataframe\ndf1 = pd.DataFrame(dataList,columns=col_names)\ndf2 = pd.DataFrame(stockSymbol,columns = ['SYMBOL'])",
      "execution_count": 10,
      "outputs": []
    },
    {
      "metadata": {
        "trusted": true,
        "_uuid": "95e9687816495db700791b437e466ade30d96884"
      },
      "cell_type": "code",
      "source": "df2.head(5)",
      "execution_count": 11,
      "outputs": [
        {
          "output_type": "execute_result",
          "execution_count": 11,
          "data": {
            "text/plain": "  SYMBOL\n0   LAKE\n1   LAKE\n2   LAKE\n3   LAKE\n4   LAKE",
            "text/html": "<div>\n<style scoped>\n    .dataframe tbody tr th:only-of-type {\n        vertical-align: middle;\n    }\n\n    .dataframe tbody tr th {\n        vertical-align: top;\n    }\n\n    .dataframe thead th {\n        text-align: right;\n    }\n</style>\n<table border=\"1\" class=\"dataframe\">\n  <thead>\n    <tr style=\"text-align: right;\">\n      <th></th>\n      <th>SYMBOL</th>\n    </tr>\n  </thead>\n  <tbody>\n    <tr>\n      <th>0</th>\n      <td>LAKE</td>\n    </tr>\n    <tr>\n      <th>1</th>\n      <td>LAKE</td>\n    </tr>\n    <tr>\n      <th>2</th>\n      <td>LAKE</td>\n    </tr>\n    <tr>\n      <th>3</th>\n      <td>LAKE</td>\n    </tr>\n    <tr>\n      <th>4</th>\n      <td>LAKE</td>\n    </tr>\n  </tbody>\n</table>\n</div>"
          },
          "metadata": {}
        }
      ]
    },
    {
      "metadata": {
        "trusted": true,
        "_uuid": "c95991a3ea54587ac4fe4e5191df7961205931de"
      },
      "cell_type": "code",
      "source": "all_stock_symbols = df2.SYMBOL.unique()",
      "execution_count": 12,
      "outputs": []
    },
    {
      "metadata": {
        "trusted": true,
        "_uuid": "10b1892fdceede22887cb7a36eb44633656e84b7"
      },
      "cell_type": "code",
      "source": "len(all_stock_symbols)\n",
      "execution_count": 13,
      "outputs": [
        {
          "output_type": "execute_result",
          "execution_count": 13,
          "data": {
            "text/plain": "7163"
          },
          "metadata": {}
        }
      ]
    },
    {
      "metadata": {
        "trusted": true,
        "_uuid": "981cfa4302e6ec145e697851adf1d6dcdb12d10e"
      },
      "cell_type": "code",
      "source": "df1.head(3)",
      "execution_count": 14,
      "outputs": [
        {
          "output_type": "execute_result",
          "execution_count": 14,
          "data": {
            "text/plain": "         Date   Open   High    Low  Close Volume  c\n0  2005-02-25  16.69  16.86  16.69  16.86  25195  0\n1  2005-02-28  16.86  17.36  16.67  17.35  34846  0\n2  2005-03-01  17.44  17.67  17.25  17.49  12703  0",
            "text/html": "<div>\n<style scoped>\n    .dataframe tbody tr th:only-of-type {\n        vertical-align: middle;\n    }\n\n    .dataframe tbody tr th {\n        vertical-align: top;\n    }\n\n    .dataframe thead th {\n        text-align: right;\n    }\n</style>\n<table border=\"1\" class=\"dataframe\">\n  <thead>\n    <tr style=\"text-align: right;\">\n      <th></th>\n      <th>Date</th>\n      <th>Open</th>\n      <th>High</th>\n      <th>Low</th>\n      <th>Close</th>\n      <th>Volume</th>\n      <th>c</th>\n    </tr>\n  </thead>\n  <tbody>\n    <tr>\n      <th>0</th>\n      <td>2005-02-25</td>\n      <td>16.69</td>\n      <td>16.86</td>\n      <td>16.69</td>\n      <td>16.86</td>\n      <td>25195</td>\n      <td>0</td>\n    </tr>\n    <tr>\n      <th>1</th>\n      <td>2005-02-28</td>\n      <td>16.86</td>\n      <td>17.36</td>\n      <td>16.67</td>\n      <td>17.35</td>\n      <td>34846</td>\n      <td>0</td>\n    </tr>\n    <tr>\n      <th>2</th>\n      <td>2005-03-01</td>\n      <td>17.44</td>\n      <td>17.67</td>\n      <td>17.25</td>\n      <td>17.49</td>\n      <td>12703</td>\n      <td>0</td>\n    </tr>\n  </tbody>\n</table>\n</div>"
          },
          "metadata": {}
        }
      ]
    },
    {
      "metadata": {
        "trusted": true,
        "_uuid": "310823ef3b219b42188d789bb8d97f9c65e61ef5"
      },
      "cell_type": "code",
      "source": "df = pd.concat([df1,df2],axis=1)",
      "execution_count": 15,
      "outputs": []
    },
    {
      "metadata": {
        "trusted": true,
        "_uuid": "39ccedbf45951beb20585902df8ce233c86ebaa1"
      },
      "cell_type": "code",
      "source": "df.head(3)",
      "execution_count": null,
      "outputs": []
    },
    {
      "metadata": {
        "trusted": true,
        "_uuid": "a352030eff59005c37efb88c6e95219f0143ee2a"
      },
      "cell_type": "code",
      "source": "df.head()",
      "execution_count": null,
      "outputs": []
    },
    {
      "metadata": {
        "trusted": true,
        "_uuid": "8fa6b111c4bae7e31cf42d80a29ff9e235159f8c"
      },
      "cell_type": "code",
      "source": "## lets try as in the example , with close dataframe\nall_close_df = df[['Date','Close','SYMBOL']]",
      "execution_count": 16,
      "outputs": []
    },
    {
      "metadata": {
        "trusted": true,
        "_uuid": "2bacffcf008eef48f084188458c7acc26cb9500e"
      },
      "cell_type": "code",
      "source": "all_close_df.head()",
      "execution_count": null,
      "outputs": []
    },
    {
      "metadata": {
        "trusted": true,
        "_uuid": "0c90eacb6078d6a0f62b829832306e0625cd68f8"
      },
      "cell_type": "code",
      "source": "def getCloseDataFromSymbols(df,symbol_list):\n    return df[df['SYMBOL'].isin(symbol_list)][['Date','Close']]\n\nresultDF=getCloseDataFromSymbols(all_close_df,['AMZN','FB','GOOGL','NFLX'])\nlen(resultDF)",
      "execution_count": 18,
      "outputs": [
        {
          "output_type": "execute_result",
          "execution_count": 18,
          "data": {
            "text/plain": "13068"
          },
          "metadata": {}
        }
      ]
    },
    {
      "metadata": {
        "trusted": true,
        "_uuid": "46b7e28cbfc5121d1443f85145d7f2b21ae832e2"
      },
      "cell_type": "code",
      "source": "def getPastSequenceData(df,window):\n    #df=np.array(df)\n    X=[]\n    y=[]\n    for i in range(1,len(df)-window,window):\n        #print(df[i-1:i+window-1],df[i+window-1])\n        date=df['Date'].iloc[i]\n        date=date.replace('-','')\n        #print(date)\n        date=np.array(date)\n        vals=np.array(df['Close'].iloc[i-1:i+window-1].values)\n        temp=np.hstack([date,vals])\n        X.append(temp)\n        y.append(df['Close'].iloc[i+window-1])\n    return X,y",
      "execution_count": 19,
      "outputs": []
    },
    {
      "metadata": {
        "trusted": true,
        "_uuid": "2b901c6d99eb397787bbde2f611eb6bc1bb81257"
      },
      "cell_type": "code",
      "source": "X,y=getPastSequenceData(resultDF,7)\nX=np.array(X)\nprint(X.shape)\nX=X.reshape(X.shape[0],X.shape[1],1)\ny=np.array(y)\nnp.shape(X),np.shape(y)",
      "execution_count": 20,
      "outputs": [
        {
          "output_type": "stream",
          "text": "(1866, 8)\n",
          "name": "stdout"
        },
        {
          "output_type": "execute_result",
          "execution_count": 20,
          "data": {
            "text/plain": "((1866, 8, 1), (1866,))"
          },
          "metadata": {}
        }
      ]
    },
    {
      "metadata": {
        "trusted": true,
        "_uuid": "0c301e4932a52b5424c3afe621b379c0455d431c"
      },
      "cell_type": "code",
      "source": "from sklearn.model_selection import TimeSeriesSplit\n",
      "execution_count": 21,
      "outputs": []
    },
    {
      "metadata": {
        "trusted": true,
        "_uuid": "ea681b9b819b4e44a15b7d3043d92079e1014401"
      },
      "cell_type": "code",
      "source": "tsSplit=TimeSeriesSplit(n_splits=5)\nfor train_index,test_index in tsSplit.split(X):\n    X_train, X_test = X[:len(train_index)], X[len(train_index): (len(train_index)+len(test_index))]\n    y_train, y_test = y[:len(train_index)], y[len(train_index): (len(train_index)+len(test_index))]",
      "execution_count": 22,
      "outputs": []
    },
    {
      "metadata": {
        "trusted": true,
        "_uuid": "99b1819c91402623e2bb661590aa3fff364e070f"
      },
      "cell_type": "code",
      "source": "np.shape(X_train),np.shape(y_train),np.shape(X_test),np.shape(y_test)\n",
      "execution_count": 23,
      "outputs": [
        {
          "output_type": "execute_result",
          "execution_count": 23,
          "data": {
            "text/plain": "((1555, 8, 1), (1555,), (311, 8, 1), (311,))"
          },
          "metadata": {}
        }
      ]
    },
    {
      "metadata": {
        "trusted": true,
        "_uuid": "152483bef0bc6e8308b20264f3b723875b27cfcf"
      },
      "cell_type": "code",
      "source": "from keras.models import Sequential\nfrom keras.layers import LSTM,Dropout,Dense\nfrom keras.utils import to_categorical\n",
      "execution_count": 29,
      "outputs": []
    },
    {
      "metadata": {
        "trusted": true,
        "_uuid": "d25c82b779c556116d5aca58d2d1a1a07bf0dcee"
      },
      "cell_type": "code",
      "source": "\ndef createLSTM():\n    model=Sequential()\n    model.add(LSTM(200,input_shape=(8,1),return_sequences=True))\n    model.add(LSTM(200))\n    model.add(Dense(200))\n    model.add(Dropout(0.20))\n    model.add(Dense(50))\n    model.add(Dropout(0.20))\n    model.add(Dense(1))\n    return model",
      "execution_count": 30,
      "outputs": []
    },
    {
      "metadata": {
        "trusted": true,
        "_uuid": "fcd5bdd69e13317fad76351f25e6849d0234a782"
      },
      "cell_type": "code",
      "source": "model=createLSTM()\nmodel.summary()",
      "execution_count": 31,
      "outputs": [
        {
          "output_type": "stream",
          "text": "_________________________________________________________________\nLayer (type)                 Output Shape              Param #   \n=================================================================\nlstm_1 (LSTM)                (None, 8, 200)            161600    \n_________________________________________________________________\nlstm_2 (LSTM)                (None, 200)               320800    \n_________________________________________________________________\ndense_1 (Dense)              (None, 200)               40200     \n_________________________________________________________________\ndropout_1 (Dropout)          (None, 200)               0         \n_________________________________________________________________\ndense_2 (Dense)              (None, 50)                10050     \n_________________________________________________________________\ndropout_2 (Dropout)          (None, 50)                0         \n_________________________________________________________________\ndense_3 (Dense)              (None, 1)                 51        \n=================================================================\nTotal params: 532,701\nTrainable params: 532,701\nNon-trainable params: 0\n_________________________________________________________________\n",
          "name": "stdout"
        }
      ]
    },
    {
      "metadata": {
        "trusted": true,
        "scrolled": false,
        "_uuid": "fe4db2143853e95fabfaa1e7ca6656c5d2daef98"
      },
      "cell_type": "code",
      "source": "model.compile(loss='mae',optimizer='adam',metrics=['acc'])\nmodel.fit(X_train,y_train,epochs=300,verbose=1)",
      "execution_count": 32,
      "outputs": [
        {
          "output_type": "stream",
          "text": "Epoch 1/300\n1555/1555 [==============================] - 4s 3ms/step - loss: 68.8812 - acc: 6.4309e-04\nEpoch 2/300\n1555/1555 [==============================] - 2s 1ms/step - loss: 20.9546 - acc: 6.4309e-04\nEpoch 3/300\n1555/1555 [==============================] - 2s 1ms/step - loss: 20.3407 - acc: 6.4309e-04\nEpoch 4/300\n1555/1555 [==============================] - 2s 1ms/step - loss: 16.0573 - acc: 0.0032\nEpoch 5/300\n1555/1555 [==============================] - 2s 1ms/step - loss: 15.1618 - acc: 6.4309e-04\nEpoch 6/300\n1555/1555 [==============================] - 2s 1ms/step - loss: 12.4183 - acc: 0.0013\nEpoch 7/300\n1555/1555 [==============================] - 2s 1ms/step - loss: 14.2746 - acc: 6.4309e-04\nEpoch 8/300\n1555/1555 [==============================] - 2s 1ms/step - loss: 13.1059 - acc: 6.4309e-04\nEpoch 9/300\n1555/1555 [==============================] - 2s 1ms/step - loss: 11.7310 - acc: 0.0013\nEpoch 10/300\n1555/1555 [==============================] - 2s 1ms/step - loss: 11.4522 - acc: 0.0000e+00\nEpoch 11/300\n1555/1555 [==============================] - 2s 1ms/step - loss: 13.5771 - acc: 6.4309e-04\nEpoch 12/300\n1555/1555 [==============================] - 2s 1ms/step - loss: 12.8201 - acc: 0.0000e+00\nEpoch 13/300\n1555/1555 [==============================] - 2s 1ms/step - loss: 12.8512 - acc: 0.0013\nEpoch 14/300\n1555/1555 [==============================] - 2s 1ms/step - loss: 13.2009 - acc: 6.4309e-04\nEpoch 15/300\n1555/1555 [==============================] - 2s 1ms/step - loss: 13.3906 - acc: 0.0019\nEpoch 16/300\n1555/1555 [==============================] - 2s 1ms/step - loss: 11.3716 - acc: 6.4309e-04\nEpoch 17/300\n1555/1555 [==============================] - 2s 1ms/step - loss: 12.1320 - acc: 6.4309e-04\nEpoch 18/300\n1555/1555 [==============================] - 2s 1ms/step - loss: 11.3850 - acc: 6.4309e-04\nEpoch 19/300\n1555/1555 [==============================] - 2s 1ms/step - loss: 10.9803 - acc: 0.0013\nEpoch 20/300\n1555/1555 [==============================] - 2s 1ms/step - loss: 13.2810 - acc: 6.4309e-04\nEpoch 21/300\n1555/1555 [==============================] - 2s 1ms/step - loss: 12.5245 - acc: 0.0000e+00\nEpoch 22/300\n1555/1555 [==============================] - 2s 1ms/step - loss: 16.7788 - acc: 0.0013\nEpoch 23/300\n1555/1555 [==============================] - 2s 1ms/step - loss: 11.8936 - acc: 6.4309e-04\nEpoch 24/300\n1555/1555 [==============================] - 2s 1ms/step - loss: 11.5592 - acc: 6.4309e-04\nEpoch 25/300\n1555/1555 [==============================] - 2s 1ms/step - loss: 11.3675 - acc: 6.4309e-04\nEpoch 26/300\n1555/1555 [==============================] - 2s 1ms/step - loss: 11.2668 - acc: 6.4309e-04\nEpoch 27/300\n1555/1555 [==============================] - 2s 1ms/step - loss: 11.4286 - acc: 0.0013\nEpoch 28/300\n1555/1555 [==============================] - 2s 1ms/step - loss: 11.1229 - acc: 6.4309e-04\nEpoch 29/300\n1555/1555 [==============================] - 2s 1ms/step - loss: 13.3859 - acc: 0.0019\nEpoch 30/300\n1555/1555 [==============================] - 2s 1ms/step - loss: 11.9272 - acc: 0.0013\nEpoch 31/300\n1555/1555 [==============================] - 2s 1ms/step - loss: 11.8925 - acc: 0.0019\nEpoch 32/300\n1555/1555 [==============================] - 2s 1ms/step - loss: 11.1133 - acc: 0.0019\nEpoch 33/300\n1555/1555 [==============================] - 2s 1ms/step - loss: 12.6867 - acc: 0.0013\nEpoch 34/300\n1555/1555 [==============================] - 2s 1ms/step - loss: 12.2957 - acc: 6.4309e-04\nEpoch 35/300\n1555/1555 [==============================] - 2s 1ms/step - loss: 10.4795 - acc: 0.0013\nEpoch 36/300\n1555/1555 [==============================] - 2s 1ms/step - loss: 10.5547 - acc: 0.0026\nEpoch 37/300\n1555/1555 [==============================] - 2s 1ms/step - loss: 12.3352 - acc: 0.0000e+00\nEpoch 38/300\n1555/1555 [==============================] - 2s 1ms/step - loss: 12.3321 - acc: 0.0013\nEpoch 39/300\n1555/1555 [==============================] - 2s 1ms/step - loss: 11.3230 - acc: 0.0013\nEpoch 40/300\n1555/1555 [==============================] - 2s 1ms/step - loss: 10.2279 - acc: 0.0013\nEpoch 41/300\n1555/1555 [==============================] - 2s 1ms/step - loss: 10.6404 - acc: 0.0013\nEpoch 42/300\n1555/1555 [==============================] - 2s 1ms/step - loss: 10.6762 - acc: 0.0013\nEpoch 43/300\n1555/1555 [==============================] - 2s 1ms/step - loss: 10.1025 - acc: 0.0019\nEpoch 44/300\n1555/1555 [==============================] - 2s 1ms/step - loss: 12.7002 - acc: 0.0026\nEpoch 45/300\n1555/1555 [==============================] - 2s 1ms/step - loss: 10.8294 - acc: 0.0000e+00\nEpoch 46/300\n1555/1555 [==============================] - 2s 1ms/step - loss: 10.6340 - acc: 0.0019\nEpoch 47/300\n1555/1555 [==============================] - 2s 1ms/step - loss: 11.9797 - acc: 0.0026\nEpoch 48/300\n1555/1555 [==============================] - 2s 1ms/step - loss: 10.1668 - acc: 0.0019\nEpoch 49/300\n1555/1555 [==============================] - 2s 1ms/step - loss: 11.0275 - acc: 0.0019\nEpoch 50/300\n1555/1555 [==============================] - 2s 1ms/step - loss: 10.2821 - acc: 0.0019\nEpoch 51/300\n1555/1555 [==============================] - 2s 1ms/step - loss: 10.3236 - acc: 6.4309e-04\nEpoch 52/300\n1555/1555 [==============================] - 2s 1ms/step - loss: 10.4972 - acc: 0.0019\nEpoch 53/300\n1555/1555 [==============================] - 2s 1ms/step - loss: 12.0909 - acc: 0.0013\nEpoch 54/300\n1555/1555 [==============================] - 2s 1ms/step - loss: 10.4898 - acc: 0.0026\nEpoch 55/300\n1555/1555 [==============================] - 2s 1ms/step - loss: 11.4364 - acc: 0.0013\nEpoch 56/300\n1555/1555 [==============================] - 2s 1ms/step - loss: 10.8820 - acc: 0.0000e+00\nEpoch 57/300\n1555/1555 [==============================] - 2s 1ms/step - loss: 10.0210 - acc: 6.4309e-04\nEpoch 58/300\n1555/1555 [==============================] - 2s 1ms/step - loss: 11.5277 - acc: 0.0000e+00\nEpoch 59/300\n1555/1555 [==============================] - 2s 1ms/step - loss: 10.5371 - acc: 0.0026\nEpoch 60/300\n1555/1555 [==============================] - 2s 1ms/step - loss: 10.9402 - acc: 0.0013\nEpoch 61/300\n1555/1555 [==============================] - 2s 1ms/step - loss: 13.4417 - acc: 0.0019\nEpoch 62/300\n1555/1555 [==============================] - 2s 1ms/step - loss: 10.0572 - acc: 0.0000e+00\nEpoch 63/300\n1555/1555 [==============================] - 2s 1ms/step - loss: 9.9981 - acc: 0.0026\nEpoch 64/300\n1555/1555 [==============================] - 2s 1ms/step - loss: 9.9957 - acc: 0.0013\nEpoch 65/300\n1555/1555 [==============================] - 2s 1ms/step - loss: 11.9267 - acc: 0.0013\nEpoch 66/300\n1555/1555 [==============================] - 2s 1ms/step - loss: 12.6815 - acc: 0.0019\nEpoch 67/300\n1555/1555 [==============================] - 2s 1ms/step - loss: 12.7061 - acc: 0.0026\nEpoch 68/300\n1555/1555 [==============================] - 2s 1ms/step - loss: 11.3509 - acc: 0.0013\nEpoch 69/300\n1555/1555 [==============================] - 2s 1ms/step - loss: 11.9107 - acc: 0.0013\nEpoch 70/300\n1555/1555 [==============================] - 2s 1ms/step - loss: 10.8459 - acc: 0.0019\nEpoch 71/300\n1555/1555 [==============================] - 2s 1ms/step - loss: 12.8851 - acc: 0.0026\nEpoch 72/300\n1555/1555 [==============================] - 2s 1ms/step - loss: 9.7222 - acc: 0.0013\nEpoch 73/300\n1555/1555 [==============================] - 2s 1ms/step - loss: 11.5568 - acc: 6.4309e-04\nEpoch 74/300\n1555/1555 [==============================] - 2s 1ms/step - loss: 10.9566 - acc: 0.0013\nEpoch 75/300\n1555/1555 [==============================] - 2s 1ms/step - loss: 9.7047 - acc: 0.0045\nEpoch 76/300\n1555/1555 [==============================] - 2s 1ms/step - loss: 11.4851 - acc: 6.4309e-04\nEpoch 77/300\n1555/1555 [==============================] - 2s 1ms/step - loss: 14.3123 - acc: 0.0019\nEpoch 78/300\n1555/1555 [==============================] - 2s 1ms/step - loss: 11.0913 - acc: 0.0019\nEpoch 79/300\n1555/1555 [==============================] - 2s 1ms/step - loss: 13.9056 - acc: 6.4309e-04\nEpoch 80/300\n1555/1555 [==============================] - 2s 1ms/step - loss: 10.2305 - acc: 6.4309e-04\nEpoch 81/300\n",
          "name": "stdout"
        },
        {
          "output_type": "stream",
          "text": "1555/1555 [==============================] - 2s 1ms/step - loss: 11.3360 - acc: 0.0026\nEpoch 82/300\n1555/1555 [==============================] - 2s 1ms/step - loss: 12.3026 - acc: 6.4309e-04\nEpoch 83/300\n1555/1555 [==============================] - 2s 1ms/step - loss: 11.8552 - acc: 0.0013\nEpoch 84/300\n1555/1555 [==============================] - 2s 1ms/step - loss: 10.2059 - acc: 0.0032\nEpoch 85/300\n1555/1555 [==============================] - 2s 1ms/step - loss: 10.0125 - acc: 0.0019\nEpoch 86/300\n1555/1555 [==============================] - 2s 1ms/step - loss: 11.0839 - acc: 0.0032\nEpoch 87/300\n1555/1555 [==============================] - 2s 1ms/step - loss: 11.5731 - acc: 0.0019\nEpoch 88/300\n1555/1555 [==============================] - 2s 1ms/step - loss: 11.1004 - acc: 0.0026\nEpoch 89/300\n1555/1555 [==============================] - 2s 1ms/step - loss: 11.0821 - acc: 0.0026\nEpoch 90/300\n1555/1555 [==============================] - 2s 1ms/step - loss: 10.4716 - acc: 0.0013\nEpoch 91/300\n1555/1555 [==============================] - 2s 1ms/step - loss: 10.8097 - acc: 0.0026\nEpoch 92/300\n1555/1555 [==============================] - 2s 1ms/step - loss: 10.4614 - acc: 0.0019\nEpoch 93/300\n1555/1555 [==============================] - 2s 1ms/step - loss: 10.0586 - acc: 0.0019\nEpoch 94/300\n1555/1555 [==============================] - 2s 1ms/step - loss: 10.9690 - acc: 0.0026\nEpoch 95/300\n1555/1555 [==============================] - 2s 1ms/step - loss: 11.7864 - acc: 0.0039\nEpoch 96/300\n1555/1555 [==============================] - 2s 1ms/step - loss: 11.2079 - acc: 0.0019\nEpoch 97/300\n1555/1555 [==============================] - 2s 1ms/step - loss: 10.0804 - acc: 0.0032\nEpoch 98/300\n1555/1555 [==============================] - 2s 1ms/step - loss: 10.2798 - acc: 0.0013\nEpoch 99/300\n1555/1555 [==============================] - 2s 1ms/step - loss: 11.1965 - acc: 0.0013\nEpoch 100/300\n1555/1555 [==============================] - 2s 1ms/step - loss: 11.1413 - acc: 0.0013\nEpoch 101/300\n1555/1555 [==============================] - 2s 1ms/step - loss: 10.8104 - acc: 0.0013\nEpoch 102/300\n1555/1555 [==============================] - 2s 1ms/step - loss: 10.5652 - acc: 0.0026\nEpoch 103/300\n1555/1555 [==============================] - 2s 1ms/step - loss: 11.2855 - acc: 6.4309e-04\nEpoch 104/300\n1555/1555 [==============================] - 2s 1ms/step - loss: 11.2844 - acc: 0.0013\nEpoch 105/300\n1555/1555 [==============================] - 2s 1ms/step - loss: 10.5975 - acc: 0.0013\nEpoch 106/300\n1555/1555 [==============================] - 2s 1ms/step - loss: 10.7167 - acc: 0.0026\nEpoch 107/300\n1555/1555 [==============================] - 2s 1ms/step - loss: 10.2724 - acc: 0.0019\nEpoch 108/300\n1555/1555 [==============================] - 2s 1ms/step - loss: 10.2928 - acc: 0.0026\nEpoch 109/300\n1555/1555 [==============================] - 2s 1ms/step - loss: 10.8443 - acc: 0.0019\nEpoch 110/300\n1555/1555 [==============================] - 2s 1ms/step - loss: 10.2033 - acc: 0.0026\nEpoch 111/300\n1555/1555 [==============================] - 2s 1ms/step - loss: 10.6200 - acc: 0.0026\nEpoch 112/300\n1555/1555 [==============================] - 2s 1ms/step - loss: 10.4937 - acc: 0.0013\nEpoch 113/300\n1555/1555 [==============================] - 2s 1ms/step - loss: 9.9195 - acc: 6.4309e-04\nEpoch 114/300\n1555/1555 [==============================] - 2s 1ms/step - loss: 10.2216 - acc: 0.0019\nEpoch 115/300\n1555/1555 [==============================] - 2s 1ms/step - loss: 9.8335 - acc: 0.0013\nEpoch 116/300\n1555/1555 [==============================] - 2s 1ms/step - loss: 11.3260 - acc: 0.0013\nEpoch 117/300\n1555/1555 [==============================] - 2s 1ms/step - loss: 11.3744 - acc: 0.0026\nEpoch 118/300\n1555/1555 [==============================] - 2s 1ms/step - loss: 10.4417 - acc: 0.0026\nEpoch 119/300\n1555/1555 [==============================] - 2s 1ms/step - loss: 11.3741 - acc: 0.0026\nEpoch 120/300\n1555/1555 [==============================] - 2s 1ms/step - loss: 10.0983 - acc: 0.0019\nEpoch 121/300\n1555/1555 [==============================] - 2s 1ms/step - loss: 10.9025 - acc: 0.0026\nEpoch 122/300\n1555/1555 [==============================] - 2s 1ms/step - loss: 9.7933 - acc: 6.4309e-04\nEpoch 123/300\n1555/1555 [==============================] - 2s 1ms/step - loss: 10.2120 - acc: 0.0019\nEpoch 124/300\n1555/1555 [==============================] - 2s 1ms/step - loss: 10.1175 - acc: 0.0026\nEpoch 125/300\n1555/1555 [==============================] - 2s 1ms/step - loss: 11.4665 - acc: 0.0026\nEpoch 126/300\n1555/1555 [==============================] - 2s 1ms/step - loss: 9.1100 - acc: 0.0039\nEpoch 127/300\n1555/1555 [==============================] - 2s 1ms/step - loss: 13.0482 - acc: 0.0019\nEpoch 128/300\n1555/1555 [==============================] - 2s 1ms/step - loss: 10.2589 - acc: 0.0013\nEpoch 129/300\n1555/1555 [==============================] - 2s 1ms/step - loss: 10.9184 - acc: 6.4309e-04\nEpoch 130/300\n1555/1555 [==============================] - 2s 1ms/step - loss: 12.5692 - acc: 0.0019\nEpoch 131/300\n1555/1555 [==============================] - 2s 1ms/step - loss: 11.4769 - acc: 0.0000e+00\nEpoch 132/300\n1555/1555 [==============================] - 2s 1ms/step - loss: 10.6339 - acc: 0.0039\nEpoch 133/300\n1555/1555 [==============================] - 2s 1ms/step - loss: 11.1750 - acc: 0.0026\nEpoch 134/300\n1555/1555 [==============================] - 2s 1ms/step - loss: 10.0136 - acc: 0.0019\nEpoch 135/300\n1555/1555 [==============================] - 2s 1ms/step - loss: 11.3088 - acc: 0.0013\nEpoch 136/300\n1555/1555 [==============================] - 2s 1ms/step - loss: 13.0749 - acc: 0.0032\nEpoch 137/300\n1555/1555 [==============================] - 2s 1ms/step - loss: 11.0068 - acc: 0.0013\nEpoch 138/300\n1555/1555 [==============================] - 2s 1ms/step - loss: 12.9748 - acc: 0.0019\nEpoch 139/300\n1555/1555 [==============================] - 2s 1ms/step - loss: 10.6066 - acc: 0.0026\nEpoch 140/300\n1555/1555 [==============================] - 2s 1ms/step - loss: 10.4590 - acc: 0.0026\nEpoch 141/300\n1555/1555 [==============================] - 2s 1ms/step - loss: 11.6838 - acc: 0.0013\nEpoch 142/300\n1555/1555 [==============================] - 2s 1ms/step - loss: 10.4563 - acc: 0.0019\nEpoch 143/300\n1555/1555 [==============================] - 2s 1ms/step - loss: 10.4959 - acc: 0.0026\nEpoch 144/300\n1555/1555 [==============================] - 2s 1ms/step - loss: 10.2067 - acc: 0.0032\nEpoch 145/300\n1555/1555 [==============================] - 2s 1ms/step - loss: 10.9120 - acc: 0.0013\nEpoch 146/300\n1555/1555 [==============================] - 2s 1ms/step - loss: 10.6159 - acc: 0.0026\nEpoch 147/300\n1555/1555 [==============================] - 2s 1ms/step - loss: 9.8336 - acc: 0.0039\nEpoch 148/300\n1555/1555 [==============================] - 2s 1ms/step - loss: 11.6753 - acc: 0.0019\nEpoch 149/300\n1555/1555 [==============================] - 2s 1ms/step - loss: 10.6512 - acc: 0.0019\nEpoch 150/300\n1555/1555 [==============================] - 2s 1ms/step - loss: 11.6237 - acc: 0.0026\nEpoch 151/300\n1555/1555 [==============================] - 2s 1ms/step - loss: 11.1073 - acc: 0.0026\nEpoch 152/300\n1555/1555 [==============================] - 2s 1ms/step - loss: 10.5802 - acc: 0.0013\nEpoch 153/300\n1555/1555 [==============================] - 2s 1ms/step - loss: 10.1793 - acc: 0.0013\nEpoch 154/300\n1555/1555 [==============================] - 2s 1ms/step - loss: 11.6058 - acc: 0.0013\nEpoch 155/300\n1555/1555 [==============================] - 2s 1ms/step - loss: 10.7054 - acc: 0.0026\nEpoch 156/300\n1555/1555 [==============================] - 2s 1ms/step - loss: 10.1783 - acc: 0.0026\nEpoch 157/300\n1555/1555 [==============================] - 2s 1ms/step - loss: 10.6124 - acc: 0.0013\nEpoch 158/300\n1555/1555 [==============================] - 2s 1ms/step - loss: 9.9645 - acc: 0.0026\nEpoch 159/300\n1555/1555 [==============================] - 2s 1ms/step - loss: 9.6011 - acc: 0.0013\nEpoch 160/300\n1555/1555 [==============================] - 2s 1ms/step - loss: 11.1670 - acc: 0.0013\nEpoch 161/300\n1555/1555 [==============================] - 2s 1ms/step - loss: 10.2618 - acc: 0.0019\nEpoch 162/300\n",
          "name": "stdout"
        },
        {
          "output_type": "stream",
          "text": "1555/1555 [==============================] - 2s 1ms/step - loss: 9.7537 - acc: 0.0045\nEpoch 163/300\n1555/1555 [==============================] - 2s 1ms/step - loss: 10.6620 - acc: 0.0019\nEpoch 164/300\n1555/1555 [==============================] - 2s 1ms/step - loss: 10.3311 - acc: 6.4309e-04\nEpoch 165/300\n1555/1555 [==============================] - 2s 1ms/step - loss: 11.0870 - acc: 0.0032\nEpoch 166/300\n1555/1555 [==============================] - 2s 1ms/step - loss: 10.0907 - acc: 0.0026\nEpoch 167/300\n1555/1555 [==============================] - 2s 1ms/step - loss: 10.5317 - acc: 0.0013\nEpoch 168/300\n1555/1555 [==============================] - 2s 1ms/step - loss: 10.2095 - acc: 0.0013\nEpoch 169/300\n1555/1555 [==============================] - 2s 1ms/step - loss: 9.6361 - acc: 0.0026\nEpoch 170/300\n1555/1555 [==============================] - 2s 1ms/step - loss: 10.0424 - acc: 0.0019\nEpoch 171/300\n1555/1555 [==============================] - 2s 1ms/step - loss: 9.8194 - acc: 0.0026\nEpoch 172/300\n1555/1555 [==============================] - 2s 1ms/step - loss: 10.0239 - acc: 0.0026\nEpoch 173/300\n1555/1555 [==============================] - 2s 1ms/step - loss: 10.8422 - acc: 6.4309e-04\nEpoch 174/300\n1555/1555 [==============================] - 2s 1ms/step - loss: 9.3070 - acc: 0.0045\nEpoch 175/300\n1555/1555 [==============================] - 2s 1ms/step - loss: 9.8311 - acc: 0.0026\nEpoch 176/300\n1555/1555 [==============================] - 2s 1ms/step - loss: 9.5466 - acc: 0.0019\nEpoch 177/300\n1555/1555 [==============================] - 2s 1ms/step - loss: 10.2579 - acc: 6.4309e-04\nEpoch 178/300\n1555/1555 [==============================] - 2s 1ms/step - loss: 10.0821 - acc: 0.0026\nEpoch 179/300\n1555/1555 [==============================] - 2s 1ms/step - loss: 11.5492 - acc: 0.0039\nEpoch 180/300\n1555/1555 [==============================] - 2s 1ms/step - loss: 9.8293 - acc: 0.0032\nEpoch 181/300\n1555/1555 [==============================] - 2s 1ms/step - loss: 9.4688 - acc: 0.0032\nEpoch 182/300\n1555/1555 [==============================] - 2s 1ms/step - loss: 10.6014 - acc: 0.0026\nEpoch 183/300\n1555/1555 [==============================] - 2s 1ms/step - loss: 9.4157 - acc: 0.0019\nEpoch 184/300\n1555/1555 [==============================] - 2s 1ms/step - loss: 10.6621 - acc: 0.0013\nEpoch 185/300\n1555/1555 [==============================] - 2s 1ms/step - loss: 9.4167 - acc: 0.0026\nEpoch 186/300\n1555/1555 [==============================] - 2s 1ms/step - loss: 9.9213 - acc: 0.0019\nEpoch 187/300\n1555/1555 [==============================] - 2s 1ms/step - loss: 10.9861 - acc: 0.0039\nEpoch 188/300\n1555/1555 [==============================] - 2s 1ms/step - loss: 10.1041 - acc: 0.0026\nEpoch 189/300\n1555/1555 [==============================] - 2s 1ms/step - loss: 9.7012 - acc: 0.0026\nEpoch 190/300\n1555/1555 [==============================] - 2s 1ms/step - loss: 10.3930 - acc: 0.0013\nEpoch 191/300\n1555/1555 [==============================] - 2s 1ms/step - loss: 9.9819 - acc: 0.0026\nEpoch 192/300\n1555/1555 [==============================] - 2s 1ms/step - loss: 10.3429 - acc: 0.0019\nEpoch 193/300\n1555/1555 [==============================] - 2s 1ms/step - loss: 10.2958 - acc: 0.0039\nEpoch 194/300\n1555/1555 [==============================] - 2s 1ms/step - loss: 9.9197 - acc: 0.0032\nEpoch 195/300\n1555/1555 [==============================] - 2s 1ms/step - loss: 9.2669 - acc: 0.0026\nEpoch 196/300\n1555/1555 [==============================] - 2s 1ms/step - loss: 10.1543 - acc: 0.0026\nEpoch 197/300\n1555/1555 [==============================] - 2s 1ms/step - loss: 12.1578 - acc: 0.0026\nEpoch 198/300\n1555/1555 [==============================] - 2s 1ms/step - loss: 10.6852 - acc: 0.0019\nEpoch 199/300\n1555/1555 [==============================] - 2s 1ms/step - loss: 9.7976 - acc: 0.0032\nEpoch 200/300\n1555/1555 [==============================] - 2s 1ms/step - loss: 10.4782 - acc: 0.0019\nEpoch 201/300\n1555/1555 [==============================] - 2s 1ms/step - loss: 10.2366 - acc: 0.0013\nEpoch 202/300\n1555/1555 [==============================] - 2s 1ms/step - loss: 10.3782 - acc: 0.0032\nEpoch 203/300\n1555/1555 [==============================] - 2s 1ms/step - loss: 10.8767 - acc: 6.4309e-04\nEpoch 204/300\n1555/1555 [==============================] - 2s 1ms/step - loss: 10.7159 - acc: 0.0032\nEpoch 205/300\n1555/1555 [==============================] - 2s 1ms/step - loss: 11.1056 - acc: 0.0039\nEpoch 206/300\n1555/1555 [==============================] - 2s 1ms/step - loss: 10.8843 - acc: 0.0019\nEpoch 207/300\n1555/1555 [==============================] - 2s 1ms/step - loss: 9.7805 - acc: 0.0026\nEpoch 208/300\n1555/1555 [==============================] - 2s 1ms/step - loss: 10.1719 - acc: 0.0019\nEpoch 209/300\n1555/1555 [==============================] - 2s 1ms/step - loss: 10.4316 - acc: 0.0019\nEpoch 210/300\n1555/1555 [==============================] - 2s 1ms/step - loss: 9.8293 - acc: 0.0013\nEpoch 211/300\n1555/1555 [==============================] - 2s 1ms/step - loss: 10.5186 - acc: 0.0019\nEpoch 212/300\n1555/1555 [==============================] - 2s 1ms/step - loss: 12.0376 - acc: 6.4309e-04\nEpoch 213/300\n1555/1555 [==============================] - 2s 1ms/step - loss: 10.7388 - acc: 0.0019\nEpoch 214/300\n1555/1555 [==============================] - 2s 1ms/step - loss: 10.1210 - acc: 0.0019\nEpoch 215/300\n1555/1555 [==============================] - 2s 1ms/step - loss: 10.2647 - acc: 0.0000e+00\nEpoch 216/300\n1555/1555 [==============================] - 2s 1ms/step - loss: 10.0229 - acc: 0.0026\nEpoch 217/300\n1555/1555 [==============================] - 2s 1ms/step - loss: 10.4324 - acc: 6.4309e-04\nEpoch 218/300\n1555/1555 [==============================] - 2s 1ms/step - loss: 10.7055 - acc: 0.0013\nEpoch 219/300\n1555/1555 [==============================] - 2s 1ms/step - loss: 9.9163 - acc: 0.0051\nEpoch 220/300\n1555/1555 [==============================] - 2s 1ms/step - loss: 11.8078 - acc: 0.0026\nEpoch 221/300\n1555/1555 [==============================] - 2s 1ms/step - loss: 10.7280 - acc: 0.0013\nEpoch 222/300\n1555/1555 [==============================] - 2s 1ms/step - loss: 10.6667 - acc: 0.0032\nEpoch 223/300\n1555/1555 [==============================] - 2s 1ms/step - loss: 10.4478 - acc: 0.0019\nEpoch 224/300\n1555/1555 [==============================] - 2s 1ms/step - loss: 9.9659 - acc: 0.0026\nEpoch 225/300\n1555/1555 [==============================] - 2s 1ms/step - loss: 9.6753 - acc: 0.0026\nEpoch 226/300\n1555/1555 [==============================] - 2s 1ms/step - loss: 10.5014 - acc: 0.0019\nEpoch 227/300\n1555/1555 [==============================] - 2s 1ms/step - loss: 10.1213 - acc: 0.0039\nEpoch 228/300\n1555/1555 [==============================] - 2s 1ms/step - loss: 10.4403 - acc: 0.0019\nEpoch 229/300\n1555/1555 [==============================] - 2s 1ms/step - loss: 11.5401 - acc: 6.4309e-04\nEpoch 230/300\n1555/1555 [==============================] - 2s 1ms/step - loss: 9.7439 - acc: 0.0019\nEpoch 231/300\n1555/1555 [==============================] - 2s 1ms/step - loss: 10.9457 - acc: 0.0013\nEpoch 232/300\n1555/1555 [==============================] - 2s 1ms/step - loss: 10.3389 - acc: 0.0013\nEpoch 233/300\n1555/1555 [==============================] - 2s 1ms/step - loss: 11.1948 - acc: 0.0026\nEpoch 234/300\n1555/1555 [==============================] - 2s 1ms/step - loss: 10.6827 - acc: 0.0039\nEpoch 235/300\n1555/1555 [==============================] - 2s 1ms/step - loss: 10.4495 - acc: 0.0026\nEpoch 236/300\n1555/1555 [==============================] - 2s 1ms/step - loss: 10.8709 - acc: 0.0026\nEpoch 237/300\n1555/1555 [==============================] - 2s 1ms/step - loss: 10.3332 - acc: 0.0045\nEpoch 238/300\n1555/1555 [==============================] - 2s 1ms/step - loss: 10.3853 - acc: 0.0032\nEpoch 239/300\n1555/1555 [==============================] - 2s 1ms/step - loss: 10.6966 - acc: 0.0013\nEpoch 240/300\n1555/1555 [==============================] - 2s 1ms/step - loss: 10.8343 - acc: 0.0032\nEpoch 241/300\n1555/1555 [==============================] - 2s 1ms/step - loss: 10.7239 - acc: 0.0019\nEpoch 242/300\n1555/1555 [==============================] - 2s 1ms/step - loss: 9.8279 - acc: 0.0019\nEpoch 243/300\n",
          "name": "stdout"
        },
        {
          "output_type": "stream",
          "text": "1555/1555 [==============================] - 2s 1ms/step - loss: 9.4735 - acc: 0.0032\nEpoch 244/300\n1555/1555 [==============================] - 2s 1ms/step - loss: 9.5112 - acc: 0.0026\nEpoch 245/300\n1555/1555 [==============================] - 2s 1ms/step - loss: 11.7160 - acc: 0.0019\nEpoch 246/300\n1555/1555 [==============================] - 2s 1ms/step - loss: 11.1762 - acc: 0.0013\nEpoch 247/300\n1555/1555 [==============================] - 2s 1ms/step - loss: 11.3941 - acc: 6.4309e-04\nEpoch 248/300\n1555/1555 [==============================] - 2s 1ms/step - loss: 9.9245 - acc: 0.0013\nEpoch 249/300\n1555/1555 [==============================] - 2s 1ms/step - loss: 10.2599 - acc: 0.0032\nEpoch 250/300\n1555/1555 [==============================] - 2s 1ms/step - loss: 13.6282 - acc: 0.0013\nEpoch 251/300\n1555/1555 [==============================] - 2s 1ms/step - loss: 11.0691 - acc: 0.0039\nEpoch 252/300\n1555/1555 [==============================] - 2s 1ms/step - loss: 10.3028 - acc: 0.0019\nEpoch 253/300\n1555/1555 [==============================] - 2s 1ms/step - loss: 11.8476 - acc: 0.0045\nEpoch 254/300\n1555/1555 [==============================] - 2s 1ms/step - loss: 11.7323 - acc: 0.0026\nEpoch 255/300\n1555/1555 [==============================] - 2s 1ms/step - loss: 11.8620 - acc: 0.0019\nEpoch 256/300\n1555/1555 [==============================] - 2s 1ms/step - loss: 10.4549 - acc: 0.0019\nEpoch 257/300\n1555/1555 [==============================] - 2s 1ms/step - loss: 10.5918 - acc: 0.0032\nEpoch 258/300\n1555/1555 [==============================] - 2s 1ms/step - loss: 10.4049 - acc: 0.0039\nEpoch 259/300\n1555/1555 [==============================] - 2s 1ms/step - loss: 9.8575 - acc: 0.0026\nEpoch 260/300\n1555/1555 [==============================] - 2s 1ms/step - loss: 10.2583 - acc: 0.0032\nEpoch 261/300\n1555/1555 [==============================] - 2s 1ms/step - loss: 9.8386 - acc: 0.0019\nEpoch 262/300\n1555/1555 [==============================] - 2s 1ms/step - loss: 10.3071 - acc: 0.0026\nEpoch 263/300\n1555/1555 [==============================] - 2s 1ms/step - loss: 10.2925 - acc: 0.0019\nEpoch 264/300\n1555/1555 [==============================] - 2s 1ms/step - loss: 10.7774 - acc: 0.0013\nEpoch 265/300\n1555/1555 [==============================] - 2s 1ms/step - loss: 11.7996 - acc: 0.0032\nEpoch 266/300\n1555/1555 [==============================] - 2s 1ms/step - loss: 8.9673 - acc: 0.0026\nEpoch 267/300\n1555/1555 [==============================] - 2s 1ms/step - loss: 10.8565 - acc: 0.0019\nEpoch 268/300\n1555/1555 [==============================] - 2s 1ms/step - loss: 9.5087 - acc: 0.0032\nEpoch 269/300\n1555/1555 [==============================] - 2s 1ms/step - loss: 10.5852 - acc: 0.0026\nEpoch 270/300\n1555/1555 [==============================] - 2s 1ms/step - loss: 10.6758 - acc: 0.0013\nEpoch 271/300\n1555/1555 [==============================] - 2s 1ms/step - loss: 9.8676 - acc: 0.0026\nEpoch 272/300\n1555/1555 [==============================] - 2s 1ms/step - loss: 10.2819 - acc: 0.0026\nEpoch 273/300\n1555/1555 [==============================] - 2s 1ms/step - loss: 9.1775 - acc: 0.0019\nEpoch 274/300\n1555/1555 [==============================] - 2s 1ms/step - loss: 10.1881 - acc: 0.0032\nEpoch 275/300\n1555/1555 [==============================] - 2s 1ms/step - loss: 10.1901 - acc: 0.0019\nEpoch 276/300\n1555/1555 [==============================] - 2s 1ms/step - loss: 10.2394 - acc: 0.0045\nEpoch 277/300\n1555/1555 [==============================] - 2s 1ms/step - loss: 11.3963 - acc: 0.0032\nEpoch 278/300\n1555/1555 [==============================] - 2s 1ms/step - loss: 10.1075 - acc: 0.0013\nEpoch 279/300\n1555/1555 [==============================] - 2s 1ms/step - loss: 10.7162 - acc: 6.4309e-04\nEpoch 280/300\n1555/1555 [==============================] - 2s 1ms/step - loss: 11.7529 - acc: 0.0013\nEpoch 281/300\n1555/1555 [==============================] - 2s 1ms/step - loss: 10.9703 - acc: 0.0019\nEpoch 282/300\n1555/1555 [==============================] - 2s 1ms/step - loss: 11.3623 - acc: 0.0026\nEpoch 283/300\n1555/1555 [==============================] - 2s 1ms/step - loss: 10.0653 - acc: 0.0019\nEpoch 284/300\n1555/1555 [==============================] - 2s 1ms/step - loss: 10.5816 - acc: 0.0039\nEpoch 285/300\n1555/1555 [==============================] - 2s 1ms/step - loss: 10.5090 - acc: 0.0013\nEpoch 286/300\n1555/1555 [==============================] - 2s 1ms/step - loss: 11.0324 - acc: 0.0019\nEpoch 287/300\n1555/1555 [==============================] - 2s 1ms/step - loss: 10.7180 - acc: 0.0019\nEpoch 288/300\n1555/1555 [==============================] - 2s 1ms/step - loss: 10.6439 - acc: 0.0026\nEpoch 289/300\n1555/1555 [==============================] - 2s 1ms/step - loss: 10.8733 - acc: 0.0019\nEpoch 290/300\n1555/1555 [==============================] - 2s 1ms/step - loss: 10.1998 - acc: 0.0019\nEpoch 291/300\n1555/1555 [==============================] - 2s 1ms/step - loss: 10.0077 - acc: 0.0032\nEpoch 292/300\n1555/1555 [==============================] - 2s 1ms/step - loss: 10.2863 - acc: 0.0019\nEpoch 293/300\n1555/1555 [==============================] - 2s 1ms/step - loss: 10.8206 - acc: 0.0013\nEpoch 294/300\n1555/1555 [==============================] - 2s 1ms/step - loss: 11.3378 - acc: 0.0013\nEpoch 295/300\n1555/1555 [==============================] - 2s 1ms/step - loss: 10.7642 - acc: 0.0026\nEpoch 296/300\n1555/1555 [==============================] - 2s 1ms/step - loss: 10.6766 - acc: 0.0019\nEpoch 297/300\n1555/1555 [==============================] - 2s 1ms/step - loss: 9.5541 - acc: 0.0019\nEpoch 298/300\n1555/1555 [==============================] - 2s 1ms/step - loss: 9.4843 - acc: 0.0013\nEpoch 299/300\n1555/1555 [==============================] - 2s 1ms/step - loss: 10.0616 - acc: 0.0019\nEpoch 300/300\n1555/1555 [==============================] - 2s 1ms/step - loss: 10.2052 - acc: 0.0019\n",
          "name": "stdout"
        },
        {
          "output_type": "execute_result",
          "execution_count": 32,
          "data": {
            "text/plain": "<keras.callbacks.History at 0x7fe989a38b38>"
          },
          "metadata": {}
        }
      ]
    },
    {
      "metadata": {
        "trusted": true,
        "_uuid": "491ac4d5daa940d858bda3494e5f8ea01e36d47c"
      },
      "cell_type": "code",
      "source": "##lets try to test this on the dataset\n",
      "execution_count": 33,
      "outputs": []
    },
    {
      "metadata": {
        "trusted": true,
        "_uuid": "c719da3a2667773ff62a928ce151fd9b5a2aa506"
      },
      "cell_type": "code",
      "source": "model.evaluate(X_test,y_test)",
      "execution_count": 34,
      "outputs": [
        {
          "output_type": "stream",
          "text": "311/311 [==============================] - 0s 1ms/step\n",
          "name": "stdout"
        },
        {
          "output_type": "execute_result",
          "execution_count": 34,
          "data": {
            "text/plain": "[16.141260208424264, 0.0]"
          },
          "metadata": {}
        }
      ]
    },
    {
      "metadata": {
        "trusted": true,
        "_uuid": "368ff57cc6533616cf8a86601ed58cc5cef20b17"
      },
      "cell_type": "code",
      "source": "test=all_close_df[all_close_df['SYMBOL']=='IBM']\nidxTest=np.random.randint(len(test))\ntestVals=test.iloc[idxTest:idxTest+7][['Date','Close']]\ntestVals['Date']",
      "execution_count": 37,
      "outputs": [
        {
          "output_type": "execute_result",
          "execution_count": 37,
          "data": {
            "text/plain": "12140561    1992-12-24\n12140562    1992-12-28\n12140563    1992-12-29\n12140564    1992-12-30\n12140565    1992-12-31\n12140566    1993-01-04\n12140567    1993-01-05\nName: Date, dtype: object"
          },
          "metadata": {}
        }
      ]
    },
    {
      "metadata": {
        "trusted": true,
        "_uuid": "8c0e870ea5759bc5aed54a3a9c21d66f34eaed8b"
      },
      "cell_type": "code",
      "source": "idx=np.random.randint(len(X_test))\ntest=X_test[idx]\nprint(test)\ntest=np.reshape(test,(1,8,1))\npreds=model.predict(test)\nprint('PRED:',preds[0],' ACT:',y_test[idx])",
      "execution_count": 38,
      "outputs": [
        {
          "output_type": "stream",
          "text": "[['20110426']\n ['262.52']\n ['266.41']\n ['268.88']\n ['268.98']\n ['272.05']\n ['269.28']\n ['266.94']]\nPRED: [265.1324]  ACT: 267.9\n",
          "name": "stdout"
        }
      ]
    },
    {
      "metadata": {
        "trusted": true,
        "_uuid": "edf173fd79e3ae76ff2d4bcc0b3aae4217ce8bcc"
      },
      "cell_type": "code",
      "source": "print(len(preds))",
      "execution_count": 40,
      "outputs": [
        {
          "output_type": "stream",
          "text": "1\n",
          "name": "stdout"
        }
      ]
    },
    {
      "metadata": {
        "trusted": true,
        "_uuid": "47ad8b3671b6d5e5d91ee3d0c371e060791a3cd6"
      },
      "cell_type": "code",
      "source": "print(len(X_test))",
      "execution_count": 42,
      "outputs": [
        {
          "output_type": "stream",
          "text": "311\n",
          "name": "stdout"
        }
      ]
    },
    {
      "metadata": {
        "trusted": true,
        "_uuid": "524435a2d3229e3125920482120da60332dae861"
      },
      "cell_type": "code",
      "source": "print(len(y_test))",
      "execution_count": 43,
      "outputs": [
        {
          "output_type": "stream",
          "text": "311\n",
          "name": "stdout"
        }
      ]
    },
    {
      "metadata": {
        "trusted": true,
        "_uuid": "9d25a5a4fbfa7d14ef17d073d779e9a1921ab6cd"
      },
      "cell_type": "code",
      "source": "preds = model.predict(X_test)",
      "execution_count": 44,
      "outputs": []
    },
    {
      "metadata": {
        "trusted": true,
        "_uuid": "7c9ac81ccb2d11ddf57bcb2673efbf022698621e"
      },
      "cell_type": "code",
      "source": "print(len(preds))",
      "execution_count": 45,
      "outputs": [
        {
          "output_type": "stream",
          "text": "311\n",
          "name": "stdout"
        }
      ]
    },
    {
      "metadata": {
        "trusted": true,
        "_uuid": "cbb3db7df6d9d94cda5c7fa6f57676fcaefb16e4"
      },
      "cell_type": "code",
      "source": "for i in range(len(preds)):\n    print('the prediction is  : ',preds[i] ,' and the actual prediction  is  : ',y_test[i])",
      "execution_count": 46,
      "outputs": [
        {
          "output_type": "stream",
          "text": "the prediction is  :  [175.20459]  and the actual prediction  is  :  172.04\nthe prediction is  :  [183.13371]  and the actual prediction  is  :  184.89\nthe prediction is  :  [186.34114]  and the actual prediction  is  :  189.75\nthe prediction is  :  [193.13046]  and the actual prediction  is  :  194.74\nthe prediction is  :  [199.81828]  and the actual prediction  is  :  201.5\nthe prediction is  :  [195.10799]  and the actual prediction  is  :  193.75\nthe prediction is  :  [196.39653]  and the actual prediction  is  :  202.18\nthe prediction is  :  [213.43968]  and the actual prediction  is  :  220.14\nthe prediction is  :  [209.80481]  and the actual prediction  is  :  208.38\nthe prediction is  :  [201.8181]  and the actual prediction  is  :  204.64\nthe prediction is  :  [202.88174]  and the actual prediction  is  :  204.8\nthe prediction is  :  [209.49152]  and the actual prediction  is  :  219.08\nthe prediction is  :  [217.24217]  and the actual prediction  is  :  223.36\nthe prediction is  :  [225.15427]  and the actual prediction  is  :  226.86\nthe prediction is  :  [228.56924]  and the actual prediction  is  :  231.14\nthe prediction is  :  [232.80263]  and the actual prediction  is  :  234.36\nthe prediction is  :  [226.67345]  and the actual prediction  is  :  226.5\nthe prediction is  :  [236.57098]  and the actual prediction  is  :  237.56\nthe prediction is  :  [252.5695]  and the actual prediction  is  :  249.23\nthe prediction is  :  [244.93198]  and the actual prediction  is  :  242.29\nthe prediction is  :  [262.35208]  and the actual prediction  is  :  263.06\nthe prediction is  :  [271.7342]  and the actual prediction  is  :  277.04\nthe prediction is  :  [265.4874]  and the actual prediction  is  :  267\nthe prediction is  :  [278.19797]  and the actual prediction  is  :  285.28\nthe prediction is  :  [280.14102]  and the actual prediction  is  :  284.98\nthe prediction is  :  [288.14563]  and the actual prediction  is  :  293.76\nthe prediction is  :  [288.58496]  and the actual prediction  is  :  295.26\nthe prediction is  :  [291.97977]  and the actual prediction  is  :  300.56\nthe prediction is  :  [301.63116]  and the actual prediction  is  :  313.38\nthe prediction is  :  [287.26895]  and the actual prediction  is  :  293.54\nthe prediction is  :  [269.44324]  and the actual prediction  is  :  270\nthe prediction is  :  [264.36737]  and the actual prediction  is  :  270.41\nthe prediction is  :  [266.305]  and the actual prediction  is  :  266.56\nthe prediction is  :  [265.47028]  and the actual prediction  is  :  265.74\nthe prediction is  :  [273.67474]  and the actual prediction  is  :  282.1\nthe prediction is  :  [275.54492]  and the actual prediction  is  :  282.6\nthe prediction is  :  [274.6769]  and the actual prediction  is  :  281.44\nthe prediction is  :  [279.695]  and the actual prediction  is  :  284.11\nthe prediction is  :  [287.42468]  and the actual prediction  is  :  297.65\nthe prediction is  :  [269.23502]  and the actual prediction  is  :  265.82\nthe prediction is  :  [254.34665]  and the actual prediction  is  :  254.88\nthe prediction is  :  [257.76013]  and the actual prediction  is  :  253.76\nthe prediction is  :  [239.90915]  and the actual prediction  is  :  238.54\nthe prediction is  :  [255.6169]  and the actual prediction  is  :  249.6\nthe prediction is  :  [242.6751]  and the actual prediction  is  :  248.82\nthe prediction is  :  [242.20602]  and the actual prediction  is  :  237.55\nthe prediction is  :  [216.10951]  and the actual prediction  is  :  218.04\nthe prediction is  :  [248.38278]  and the actual prediction  is  :  247.01\nthe prediction is  :  [247.7549]  and the actual prediction  is  :  244.48\nthe prediction is  :  [247.15874]  and the actual prediction  is  :  253.16\nthe prediction is  :  [248.37978]  and the actual prediction  is  :  243.18\nthe prediction is  :  [231.85124]  and the actual prediction  is  :  225.7\nthe prediction is  :  [229.95078]  and the actual prediction  is  :  231.59\nthe prediction is  :  [242.9607]  and the actual prediction  is  :  240.22\nthe prediction is  :  [259.28207]  and the actual prediction  is  :  256.74\nthe prediction is  :  [262.514]  and the actual prediction  is  :  261.18\nthe prediction is  :  [268.0719]  and the actual prediction  is  :  271.65\nthe prediction is  :  [298.32886]  and the actual prediction  is  :  306.26\nthe prediction is  :  [299.47705]  and the actual prediction  is  :  307.8\nthe prediction is  :  [302.95737]  and the actual prediction  is  :  308.6\nthe prediction is  :  [287.8341]  and the actual prediction  is  :  295.61\nthe prediction is  :  [277.43198]  and the actual prediction  is  :  285.91\nthe prediction is  :  [288.7989]  and the actual prediction  is  :  297.31\nthe prediction is  :  [294.3582]  and the actual prediction  is  :  302.74\nthe prediction is  :  [289.2866]  and the actual prediction  is  :  302.18\nthe prediction is  :  [299.98294]  and the actual prediction  is  :  308.44\nthe prediction is  :  [297.17303]  and the actual prediction  is  :  305.54\nthe prediction is  :  [298.2643]  and the actual prediction  is  :  306\nthe prediction is  :  [300.08417]  and the actual prediction  is  :  312.25\nthe prediction is  :  [296.09464]  and the actual prediction  is  :  305.66\nthe prediction is  :  [297.4621]  and the actual prediction  is  :  300.31\nthe prediction is  :  [278.8263]  and the actual prediction  is  :  284.78\nthe prediction is  :  [284.49985]  and the actual prediction  is  :  293.44\nthe prediction is  :  [288.9015]  and the actual prediction  is  :  293.84\nthe prediction is  :  [279.03397]  and the actual prediction  is  :  288.14\nthe prediction is  :  [262.35373]  and the actual prediction  is  :  262.52\nthe prediction is  :  [265.13235]  and the actual prediction  is  :  267.9\nthe prediction is  :  [265.71036]  and the actual prediction  is  :  264.77\nthe prediction is  :  [259.78027]  and the actual prediction  is  :  259.13\nthe prediction is  :  [263.4351]  and the actual prediction  is  :  261.54\nthe prediction is  :  [254.54655]  and the actual prediction  is  :  254.18\nthe prediction is  :  [245.08936]  and the actual prediction  is  :  240.11\nthe prediction is  :  [261.61325]  and the actual prediction  is  :  266.22\nthe prediction is  :  [267.09064]  and the actual prediction  is  :  264.47\nthe prediction is  :  [301.62946]  and the actual prediction  is  :  309.49\nthe prediction is  :  [288.0823]  and the actual prediction  is  :  300.58\nthe prediction is  :  [276.6586]  and the actual prediction  is  :  281.88\nthe prediction is  :  [252.51384]  and the actual prediction  is  :  259.41\nthe prediction is  :  [267.7837]  and the actual prediction  is  :  266.25\nthe prediction is  :  [264.2842]  and the actual prediction  is  :  264.76\nthe prediction is  :  [266.8483]  and the actual prediction  is  :  260.33\nthe prediction is  :  [258.3871]  and the actual prediction  is  :  247.76\nthe prediction is  :  [269.09866]  and the actual prediction  is  :  274.25\nthe prediction is  :  [285.03232]  and the actual prediction  is  :  295.24\nthe prediction is  :  [288.4751]  and the actual prediction  is  :  289.32\nthe prediction is  :  [292.21796]  and the actual prediction  is  :  297.54\nthe prediction is  :  [289.65173]  and the actual prediction  is  :  290.47\nthe prediction is  :  [292.9227]  and the actual prediction  is  :  306.88\nthe prediction is  :  [305.6335]  and the actual prediction  is  :  312.7\nthe prediction is  :  [306.77545]  and the actual prediction  is  :  312.91\nthe prediction is  :  [313.0407]  and the actual prediction  is  :  332.7\nthe prediction is  :  [304.748]  and the actual prediction  is  :  314.82\nthe prediction is  :  [285.63846]  and the actual prediction  is  :  290.46\nthe prediction is  :  [283.78833]  and the actual prediction  is  :  292.56\nthe prediction is  :  [294.90036]  and the actual prediction  is  :  306.1\nthe prediction is  :  [295.88553]  and the actual prediction  is  :  303.06\nthe prediction is  :  [302.2884]  and the actual prediction  is  :  307.12\nthe prediction is  :  [301.4588]  and the actual prediction  is  :  308\nthe prediction is  :  [313.21637]  and the actual prediction  is  :  321.3\nthe prediction is  :  [313.59686]  and the actual prediction  is  :  321.31\nthe prediction is  :  [315.8898]  and the actual prediction  is  :  312.3\nthe prediction is  :  [291.42676]  and the actual prediction  is  :  300.64\nthe prediction is  :  [296.03906]  and the actual prediction  is  :  305.51\nthe prediction is  :  [294.47787]  and the actual prediction  is  :  302\nthe prediction is  :  [292.25748]  and the actual prediction  is  :  304.73\nthe prediction is  :  [278.99435]  and the actual prediction  is  :  289.3\nthe prediction is  :  [276.9803]  and the actual prediction  is  :  280.54\nthe prediction is  :  [276.50912]  and the actual prediction  is  :  285.74\nthe prediction is  :  [283.6995]  and the actual prediction  is  :  293.92\nthe prediction is  :  [279.2784]  and the actual prediction  is  :  288.26\nthe prediction is  :  [299.95352]  and the actual prediction  is  :  303.79\nthe prediction is  :  [307.4108]  and the actual prediction  is  :  314.38\nthe prediction is  :  [311.20126]  and the actual prediction  is  :  330\nthe prediction is  :  [323.7049]  and the actual prediction  is  :  338.59\nthe prediction is  :  [329.58978]  and the actual prediction  is  :  342.54\nthe prediction is  :  [334.63855]  and the actual prediction  is  :  345.44\nthe prediction is  :  [352.85226]  and the actual prediction  is  :  367\nthe prediction is  :  [368.58496]  and the actual prediction  is  :  378.5\nthe prediction is  :  [360.71262]  and the actual prediction  is  :  375.74\nthe prediction is  :  [329.46902]  and the actual prediction  is  :  339.34\nthe prediction is  :  [332.94522]  and the actual prediction  is  :  343.96\nthe prediction is  :  [322.36496]  and the actual prediction  is  :  329.52\nthe prediction is  :  [322.02396]  and the actual prediction  is  :  333.98\nthe prediction is  :  [336.1418]  and the actual prediction  is  :  345.52\nthe prediction is  :  [337.3612]  and the actual prediction  is  :  351.35\nthe prediction is  :  [346.59756]  and the actual prediction  is  :  354.75\nthe prediction is  :  [350.68646]  and the actual prediction  is  :  368.98\nthe prediction is  :  [350.7912]  and the actual prediction  is  :  362.46\nthe prediction is  :  [364.67776]  and the actual prediction  is  :  376.84\nthe prediction is  :  [368.0533]  and the actual prediction  is  :  382.87\nthe prediction is  :  [378.3406]  and the actual prediction  is  :  393.91\nthe prediction is  :  [382.11197]  and the actual prediction  is  :  395.06\nthe prediction is  :  [397.58258]  and the actual prediction  is  :  416.3\nthe prediction is  :  [391.21973]  and the actual prediction  is  :  403.9\nthe prediction is  :  [389.87717]  and the actual prediction  is  :  401.33\nthe prediction is  :  [379.2907]  and the actual prediction  is  :  387.42\nthe prediction is  :  [382.17044]  and the actual prediction  is  :  391.28\nthe prediction is  :  [388.9263]  and the actual prediction  is  :  400.71\nthe prediction is  :  [407.8139]  and the actual prediction  is  :  428.62\nthe prediction is  :  [423.91818]  and the actual prediction  is  :  451.94\nthe prediction is  :  [413.53543]  and the actual prediction  is  :  440.64\nthe prediction is  :  [408.37875]  and the actual prediction  is  :  432.32\nthe prediction is  :  [413.3975]  and the actual prediction  is  :  443.12\nthe prediction is  :  [411.03403]  and the actual prediction  is  :  436.82\nthe prediction is  :  [418.4826]  and the actual prediction  is  :  452.54\nthe prediction is  :  [427.61502]  and the actual prediction  is  :  459.28\nthe prediction is  :  [418.23053]  and the actual prediction  is  :  442.68\nthe prediction is  :  [422.59174]  and the actual prediction  is  :  448.28\nthe prediction is  :  [412.5106]  and the actual prediction  is  :  429.83\nthe prediction is  :  [411.98218]  and the actual prediction  is  :  433.2\nthe prediction is  :  [411.3907]  and the actual prediction  is  :  439.78\nthe prediction is  :  [417.906]  and the actual prediction  is  :  443.88\nthe prediction is  :  [417.12463]  and the actual prediction  is  :  438.62\nthe prediction is  :  [414.34982]  and the actual prediction  is  :  436.18\nthe prediction is  :  [413.28842]  and the actual prediction  is  :  441\nthe prediction is  :  [476.40268]  and the actual prediction  is  :  512.78\nthe prediction is  :  [478.12628]  and the actual prediction  is  :  513.05\nthe prediction is  :  [472.01666]  and the actual prediction  is  :  516.24\nthe prediction is  :  [479.52405]  and the actual prediction  is  :  515.95\nthe prediction is  :  [488.6303]  and the actual prediction  is  :  529.09\nthe prediction is  :  [496.9887]  and the actual prediction  is  :  530.4\nthe prediction is  :  [516.4325]  and the actual prediction  is  :  555.92\nthe prediction is  :  [515.0665]  and the actual prediction  is  :  558.66\nthe prediction is  :  [535.8801]  and the actual prediction  is  :  574.31\nthe prediction is  :  [531.60406]  and the actual prediction  is  :  550.62\nthe prediction is  :  [533.237]  and the actual prediction  is  :  571.6\nthe prediction is  :  [567.32837]  and the actual prediction  is  :  601.4\nthe prediction is  :  [580.5503]  and the actual prediction  is  :  610.08\nthe prediction is  :  [581.4442]  and the actual prediction  is  :  607.4\nthe prediction is  :  [562.7657]  and the actual prediction  is  :  605.63\nthe prediction is  :  [535.27704]  and the actual prediction  is  :  557.14\nthe prediction is  :  [512.73535]  and the actual prediction  is  :  540.63\nthe prediction is  :  [508.76614]  and the actual prediction  is  :  563.9\nthe prediction is  :  [488.84348]  and the actual prediction  is  :  522.98\nthe prediction is  :  [488.1182]  and the actual prediction  is  :  518\nthe prediction is  :  [491.9711]  and the actual prediction  is  :  528.3\nthe prediction is  :  [535.6667]  and the actual prediction  is  :  570.45\nthe prediction is  :  [524.861]  and the actual prediction  is  :  566.03\nthe prediction is  :  [516.61444]  and the actual prediction  is  :  550.61\nthe prediction is  :  [548.7716]  and the actual prediction  is  :  584.77\nthe prediction is  :  [558.82306]  and the actual prediction  is  :  578.4\nthe prediction is  :  [558.7776]  and the actual prediction  is  :  580.82\nthe prediction is  :  [568.76]  and the actual prediction  is  :  599.02\nthe prediction is  :  [540.4314]  and the actual prediction  is  :  574.49\nthe prediction is  :  [550.3391]  and the actual prediction  is  :  583.71\nthe prediction is  :  [558.80646]  and the actual prediction  is  :  588.12\nthe prediction is  :  [559.89215]  and the actual prediction  is  :  597.78\nthe prediction is  :  [549.3985]  and the actual prediction  is  :  588.78\nthe prediction is  :  [566.01294]  and the actual prediction  is  :  585.25\nthe prediction is  :  [551.735]  and the actual prediction  is  :  587.78\nthe prediction is  :  [511.7429]  and the actual prediction  is  :  540.73\nthe prediction is  :  [511.5983]  and the actual prediction  is  :  548.9\nthe prediction is  :  [526.2638]  and the actual prediction  is  :  564.19\nthe prediction is  :  [519.946]  and the actual prediction  is  :  556.44\nthe prediction is  :  [506.45047]  and the actual prediction  is  :  547.48\nthe prediction is  :  [498.69724]  and the actual prediction  is  :  542.58\nthe prediction is  :  [486.50626]  and the actual prediction  is  :  515.84\nthe prediction is  :  [497.35092]  and the actual prediction  is  :  536.93\nthe prediction is  :  [485.22302]  and the actual prediction  is  :  506.64\nthe prediction is  :  [471.0369]  and the actual prediction  is  :  504.01\nthe prediction is  :  [498.2694]  and the actual prediction  is  :  521.19\nthe prediction is  :  [489.35678]  and the actual prediction  is  :  529.83\nthe prediction is  :  [510.05734]  and the actual prediction  is  :  545.01\nthe prediction is  :  [505.9547]  and the actual prediction  is  :  559.29\nthe prediction is  :  [539.57764]  and the actual prediction  is  :  574.1\nthe prediction is  :  [519.61884]  and the actual prediction  is  :  566.16\nthe prediction is  :  [527.9452]  and the actual prediction  is  :  557.55\nthe prediction is  :  [505.72363]  and the actual prediction  is  :  548.84\nthe prediction is  :  [503.92883]  and the actual prediction  is  :  532.74\nthe prediction is  :  [529.57886]  and the actual prediction  is  :  564.37\nthe prediction is  :  [499.34128]  and the actual prediction  is  :  542.04\nthe prediction is  :  [507.35754]  and the actual prediction  is  :  546.67\nthe prediction is  :  [514.0569]  and the actual prediction  is  :  554.18\nthe prediction is  :  [511.21588]  and the actual prediction  is  :  543.48\nthe prediction is  :  [505.6177]  and the actual prediction  is  :  546.6\nthe prediction is  :  [519.8821]  and the actual prediction  is  :  553.06\nthe prediction is  :  [509.69247]  and the actual prediction  is  :  541.7\nthe prediction is  :  [567.0042]  and the actual prediction  is  :  699.62\nthe prediction is  :  [641.8342]  and the actual prediction  is  :  659.66\nthe prediction is  :  [649.7597]  and the actual prediction  is  :  670.15\nthe prediction is  :  [667.0197]  and the actual prediction  is  :  694.11\nthe prediction is  :  [591.7538]  and the actual prediction  is  :  659.74\nthe prediction is  :  [619.4629]  and the actual prediction  is  :  628.96\nthe prediction is  :  [642.1414]  and the actual prediction  is  :  665.52\nthe prediction is  :  [636.8502]  and the actual prediction  is  :  640.15\nthe prediction is  :  [645.13214]  and the actual prediction  is  :  671.64\nthe prediction is  :  [659.4206]  and the actual prediction  is  :  693.02\nthe prediction is  :  [683.084]  and the actual prediction  is  :  731.12\nthe prediction is  :  [728.50446]  and the actual prediction  is  :  755.31\nthe prediction is  :  [739.954]  and the actual prediction  is  :  740.07\nthe prediction is  :  [758.25256]  and the actual prediction  is  :  769.63\nthe prediction is  :  [754.0859]  and the actual prediction  is  :  779.21\nthe prediction is  :  [742.21643]  and the actual prediction  is  :  760.09\nthe prediction is  :  [750.1045]  and the actual prediction  is  :  765.84\nthe prediction is  :  [745.56384]  and the actual prediction  is  :  759.33\nthe prediction is  :  [710.1142]  and the actual prediction  is  :  710.49\nthe prediction is  :  [714.2729]  and the actual prediction  is  :  717.58\nthe prediction is  :  [719.1621]  and the actual prediction  is  :  703.76\nthe prediction is  :  [691.3371]  and the actual prediction  is  :  731.97\nthe prediction is  :  [705.45685]  and the actual prediction  is  :  724.86\nthe prediction is  :  [697.91846]  and the actual prediction  is  :  713.53\nthe prediction is  :  [736.3875]  and the actual prediction  is  :  758.48\nthe prediction is  :  [735.6043]  and the actual prediction  is  :  765.89\nthe prediction is  :  [748.5895]  and the actual prediction  is  :  760.12\nthe prediction is  :  [761.85767]  and the actual prediction  is  :  787.68\nthe prediction is  :  [711.8377]  and the actual prediction  is  :  721.46\nthe prediction is  :  [690.8558]  and the actual prediction  is  :  725.18\nthe prediction is  :  [708.9086]  and the actual prediction  is  :  720.13\nthe prediction is  :  [714.46063]  and the actual prediction  is  :  736.93\nthe prediction is  :  [713.15356]  and the actual prediction  is  :  731.09\nthe prediction is  :  [712.5603]  and the actual prediction  is  :  724.25\nthe prediction is  :  [672.8885]  and the actual prediction  is  :  681.14\nthe prediction is  :  [684.9366]  and the actual prediction  is  :  707.26\nthe prediction is  :  [714.9983]  and the actual prediction  is  :  753.2\nthe prediction is  :  [739.3159]  and the actual prediction  is  :  761.97\nthe prediction is  :  [784.3414]  and the actual prediction  is  :  806.93\nthe prediction is  :  [794.4877]  and the actual prediction  is  :  801.19\nthe prediction is  :  [781.0182]  and the actual prediction  is  :  791.3\nthe prediction is  :  [781.63873]  and the actual prediction  is  :  808.02\nthe prediction is  :  [776.7955]  and the actual prediction  is  :  801.29\nthe prediction is  :  [802.94086]  and the actual prediction  is  :  802.52\nthe prediction is  :  [790.0632]  and the actual prediction  is  :  801.23\nthe prediction is  :  [794.0975]  and the actual prediction  is  :  804.6\nthe prediction is  :  [824.3354]  and the actual prediction  is  :  828.55\nthe prediction is  :  [780.5869]  and the actual prediction  is  :  782.19\nthe prediction is  :  [760.9659]  and the actual prediction  is  :  753.22\nthe prediction is  :  [769.1479]  and the actual prediction  is  :  779\nthe prediction is  :  [748.6213]  and the actual prediction  is  :  778.22\nthe prediction is  :  [801.5707]  and the actual prediction  is  :  817.89\nthe prediction is  :  [799.39844]  and the actual prediction  is  :  807.8\nthe prediction is  :  [794.6518]  and the actual prediction  is  :  813.02\nthe prediction is  :  [822.3306]  and the actual prediction  is  :  827.46\nthe prediction is  :  [850.7339]  and the actual prediction  is  :  856.98\nthe prediction is  :  [809.8414]  and the actual prediction  is  :  821.62\nthe prediction is  :  [832.4894]  and the actual prediction  is  :  837.32\nthe prediction is  :  [843.6811]  and the actual prediction  is  :  849.67\nthe prediction is  :  [845.69867]  and the actual prediction  is  :  853.64\nthe prediction is  :  [867.89734]  and the actual prediction  is  :  872.37\nthe prediction is  :  [831.9387]  and the actual prediction  is  :  840.63\nthe prediction is  :  [845.4352]  and the actual prediction  is  :  845.095\nthe prediction is  :  [846.4232]  and the actual prediction  is  :  853.99\nthe prediction is  :  [888.1121]  and the actual prediction  is  :  891.44\nthe prediction is  :  [947.2263]  and the actual prediction  is  :  958.69\nthe prediction is  :  [959.23376]  and the actual prediction  is  :  942.17\nthe prediction is  :  [980.7864]  and the actual prediction  is  :  993.27\nthe prediction is  :  [986.0914]  and the actual prediction  is  :  1001.59\nthe prediction is  :  [957.6538]  and the actual prediction  is  :  958.62\nthe prediction is  :  [968.67255]  and the actual prediction  is  :  948.09\nthe prediction is  :  [927.1147]  and the actual prediction  is  :  940.81\nthe prediction is  :  [970.125]  and the actual prediction  is  :  986.95\nthe prediction is  :  [962.87054]  and the actual prediction  is  :  952.51\nthe prediction is  :  [942.76917]  and the actual prediction  is  :  945.75\nthe prediction is  :  [935.84534]  and the actual prediction  is  :  944.27\nthe prediction is  :  [935.56305]  and the actual prediction  is  :  930.5\nthe prediction is  :  [940.80676]  and the actual prediction  is  :  942.02\nthe prediction is  :  [939.4189]  and the actual prediction  is  :  935.29\nthe prediction is  :  [934.32104]  and the actual prediction  is  :  937.43\nthe prediction is  :  [962.8162]  and the actual prediction  is  :  985.19\nthe prediction is  :  [991.9901]  and the actual prediction  is  :  1009.35\nthe prediction is  :  [981.5002]  and the actual prediction  is  :  991.46\nthe prediction is  :  [1006.2922]  and the actual prediction  is  :  1049.99\n",
          "name": "stdout"
        }
      ]
    },
    {
      "metadata": {
        "trusted": true,
        "_uuid": "88a718b4acbee6fa23eafa23f8dd38e3c78fbec4"
      },
      "cell_type": "code",
      "source": "## lets try to save this model\n",
      "execution_count": 47,
      "outputs": []
    },
    {
      "metadata": {
        "trusted": true,
        "_uuid": "47fdcdfe765069345678554a0bc597a5d09723a2"
      },
      "cell_type": "code",
      "source": "!ls\n",
      "execution_count": 48,
      "outputs": [
        {
          "output_type": "stream",
          "text": "__notebook_source__.ipynb\r\n",
          "name": "stdout"
        }
      ]
    },
    {
      "metadata": {
        "trusted": true,
        "_uuid": "412b7b871d39f7c57f927f6903d8abb44a8b38ed"
      },
      "cell_type": "code",
      "source": "!mkdir model",
      "execution_count": 49,
      "outputs": []
    },
    {
      "metadata": {
        "trusted": true,
        "_uuid": "c652e21861fbb27f493af26a3dcfae9e2871c5fd"
      },
      "cell_type": "code",
      "source": "!ls\n",
      "execution_count": 50,
      "outputs": [
        {
          "output_type": "stream",
          "text": "__notebook_source__.ipynb  model\r\n",
          "name": "stdout"
        }
      ]
    },
    {
      "metadata": {
        "trusted": true,
        "_uuid": "adb42c7f54ba891e1d3ffa1f17f13be3b7d04580"
      },
      "cell_type": "code",
      "source": "# serialize model to JSON\nmodel_json = model.to_json()\nwith open(\"./model/model.json\", \"w\") as json_file:\n    json_file.write(model_json)\n# serialize weights to HDF5\nmodel.save_weights(\"./model/model.h5\")\nprint(\"Saved model to disk\")\n",
      "execution_count": 51,
      "outputs": [
        {
          "output_type": "stream",
          "text": "Saved model to disk\n",
          "name": "stdout"
        }
      ]
    },
    {
      "metadata": {
        "trusted": true,
        "_uuid": "8f6ec63fa492d07b470ccc754fbe85f7bddb5efd"
      },
      "cell_type": "code",
      "source": "!ls\n",
      "execution_count": 52,
      "outputs": [
        {
          "output_type": "stream",
          "text": "__notebook_source__.ipynb  model\r\n",
          "name": "stdout"
        }
      ]
    },
    {
      "metadata": {
        "trusted": true,
        "_uuid": "13d28fd499a1b03e022e2284f834a3001a0aa876"
      },
      "cell_type": "code",
      "source": "!cd model",
      "execution_count": 53,
      "outputs": []
    },
    {
      "metadata": {
        "trusted": true,
        "_uuid": "876309665d70ebb73fb03acf4ab74d770991344c"
      },
      "cell_type": "code",
      "source": "!ls",
      "execution_count": 54,
      "outputs": [
        {
          "output_type": "stream",
          "text": "__notebook_source__.ipynb  model\r\n",
          "name": "stdout"
        }
      ]
    },
    {
      "metadata": {
        "_kg_hide-output": true,
        "trusted": true,
        "_uuid": "0e17636a133d3022d6e43746191382afec4ba7a0"
      },
      "cell_type": "code",
      "source": "!git clone https://github.com/sarvinder/stock_market.git",
      "execution_count": 63,
      "outputs": [
        {
          "output_type": "stream",
          "text": "Cloning into 'stock_market'...\nfatal: unable to access 'https://github.com/sarvinder/stock_market.git/': Could not resolve host: github.com\n",
          "name": "stdout"
        }
      ]
    },
    {
      "metadata": {
        "trusted": true,
        "_uuid": "d93abb9f52c4fa5f342b98df685a6a999ab446b1"
      },
      "cell_type": "code",
      "source": "",
      "execution_count": null,
      "outputs": []
    }
  ],
  "metadata": {
    "kernelspec": {
      "display_name": "Python 3",
      "language": "python",
      "name": "python3"
    },
    "language_info": {
      "name": "python",
      "version": "3.6.6",
      "mimetype": "text/x-python",
      "codemirror_mode": {
        "name": "ipython",
        "version": 3
      },
      "pygments_lexer": "ipython3",
      "nbconvert_exporter": "python",
      "file_extension": ".py"
    }
  },
  "nbformat": 4,
  "nbformat_minor": 1
}